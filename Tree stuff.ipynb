{
 "cells": [
  {
   "cell_type": "markdown",
   "metadata": {},
   "source": [
    "### Example tree (pre-order traversing thread)\n",
    "![Tree in this example](tree.png)"
   ]
  },
  {
   "cell_type": "code",
   "execution_count": 1,
   "metadata": {
    "collapsed": true
   },
   "outputs": [],
   "source": [
    "# Node class\n",
    "class Node(object):\n",
    "    def __init__(self, s):\n",
    "        self.val = s\n",
    "        self.left = None\n",
    "        self.right = None\n",
    "\n",
    "# Serilized trees, \"#\" marks a None child\n",
    "pre_order = [\"F\",\"B\",\"A\",\"#\",\"#\",\"D\",\"C\",\"#\",\"#\",\"E\",\"#\",\"#\",\"G\",\"#\",\"I\",\"H\",\"#\",\"#\",\"#\"]\n",
    "in_order = [\"#\",\"A\",\"#\",\"B\",\"#\",\"C\",\"#\",\"D\",\"#\",\"E\",\"#\",\"F\",\"#\",\"G\",\"#\",\"H\",\"#\",\"I\",\"#\"]\n",
    "post_order = [\"#\",\"#\",\"A\",\"#\",\"#\",\"C\",\"#\",\"#\",\"E\",\"D\",\"B\",\"#\",\"#\",\"#\",\"H\",\"#\",\"I\",\"G\",\"F\"]\n",
    "level_order = [\"F\",\"B\",\"G\",\"A\",\"D\",\"#\",\"I\",\"#\",\"#\",\"C\",\"E\",\"H\",\"#\",\"#\",\"#\",\"#\",\"#\",\"#\",\"#\"]"
   ]
  },
  {
   "cell_type": "code",
   "execution_count": 2,
   "metadata": {
    "collapsed": true
   },
   "outputs": [],
   "source": [
    "# Practice: pre-order serializer and deserializer\n",
    "\n",
    "# Serializer\n",
    "def se_preorder(root):\n",
    "    \n",
    "    # Inner recursive function \n",
    "    def recur_se(root, lst):\n",
    "        if root == None:\n",
    "            lst.append(\"#\")\n",
    "            return\n",
    "        else:\n",
    "            lst.append(root.val)\n",
    "            recur_se(root.left, serialized)\n",
    "            recur_se(root.right, serialized)\n",
    "    \n",
    "    serialized = []\n",
    "    recur_se(root, serialized)\n",
    "    return serialized\n",
    "\n",
    "# De-serializer\n",
    "def de_preorder(serialized_val):\n",
    "    \n",
    "    # Inner deserializer recursivelt built small triangle tree-like structure.\n",
    "    #\n",
    "    #                     root <- index=i\n",
    "    #                    /   \\\n",
    "    #  index = i+1 -> left  right <- index = 1+index of (the rightmost node in left children's tree)\n",
    "    #\n",
    "    # Assume root node's at serialized[i], now we start to build the whole tree\n",
    "    # First step in recursion is to build the root, which is easy because we have its index i \n",
    "    # Next step is also easy because we know that the left's index is root's + 1\n",
    "    # The right is harder but by we know that recursiive building of right should happen after resusive building left tree\n",
    "    # Therefore the recurison of left tree should return the right's index which is 1+(index of last node in left tree)\n",
    "    # Now we have rebuilt the tree, what's left is just to return the tree\n",
    "    # \n",
    "    # BUT! Don't forget it's recursion. Since to build the right tree need its own index returned\n",
    "    # ,therefore the whole recursion need to return the index of the next node that recursion should happen on\n",
    "    # Are we done? No! Again, we need to deal with None node. It's easy thought since None node doesn't has children\n",
    "    # So None node doesn't have children to rebuild. Therefore we just return None and the next index. That's it!\n",
    "    def recur_de(lst, i):\n",
    "        root_val = lst[i]\n",
    "        \n",
    "        # When the val shows it's a None node, just return\n",
    "        if root_val == \"#\":\n",
    "            return (None, i+1)\n",
    "        \n",
    "        # When this value is a real node\n",
    "        root = Node(root_val)\n",
    "        # Recurse left and right to find their trees\n",
    "        left, right_i = recur_de(lst, i+1)\n",
    "        right, next_i = recur_de(lst, right_i)\n",
    "        # Link left and right trees to root\n",
    "        root.left = left\n",
    "        root.right = right\n",
    "        \n",
    "        return root, next_i\n",
    "    \n",
    "    root, length = recur_de(serialized_val, 0)\n",
    "    \n",
    "    return root"
   ]
  },
  {
   "cell_type": "code",
   "execution_count": 3,
   "metadata": {
    "collapsed": false
   },
   "outputs": [
    {
     "name": "stdout",
     "output_type": "stream",
     "text": [
      "True\n"
     ]
    }
   ],
   "source": [
    "# Test pre-order serializer and de-serializer\n",
    "print pre_order == se_preorder(de_preorder(pre_order))"
   ]
  },
  {
   "cell_type": "code",
   "execution_count": 4,
   "metadata": {
    "collapsed": true
   },
   "outputs": [],
   "source": [
    "# Priactice: post-order serializer and de-serializer\n",
    "def se_postorder(root):\n",
    "    \n",
    "    def recur_se(root, lst):\n",
    "        if root == None:\n",
    "            lst.append(\"#\")\n",
    "        else:\n",
    "            recur_se(root.left, lst)\n",
    "            recur_se(root.right, lst)\n",
    "            lst.append(root.val)\n",
    "    \n",
    "    lst =[]\n",
    "    recur_se(root, lst)\n",
    "    return lst\n",
    "\n",
    "def de_postorder(lst):\n",
    "    \n",
    "    # de-serialize from back\n",
    "    def recur_de(lst, pos):\n",
    "        if lst[pos] == \"#\":\n",
    "            return None, pos-1\n",
    "        \n",
    "        else:\n",
    "            root = Node(lst[pos])\n",
    "            right, left_pos = recur_de(lst, pos-1)\n",
    "            left, next_pos = recur_de(lst, left_pos)\n",
    "            root.left = left\n",
    "            root.right = right\n",
    "            \n",
    "            return root, next_pos\n",
    "    \n",
    "    root, length = recur_de(lst, len(lst)-1)\n",
    "    return root"
   ]
  },
  {
   "cell_type": "code",
   "execution_count": 7,
   "metadata": {
    "collapsed": false
   },
   "outputs": [
    {
     "name": "stdout",
     "output_type": "stream",
     "text": [
      "True\n"
     ]
    }
   ],
   "source": [
    "# Test:post-order serializer and de-serializer\n",
    "print post_order == se_postorder(de_postorder(post_order))"
   ]
  },
  {
   "cell_type": "code",
   "execution_count": 46,
   "metadata": {
    "collapsed": false
   },
   "outputs": [],
   "source": [
    "# Practice: level-order serializer and de-serializer\n",
    "\n",
    "# Typical BFS, choose the order from left to right\n",
    "from collections import deque\n",
    "def se_bfs(root):\n",
    "    q = deque()\n",
    "    q.append(root)\n",
    "    serialized = []\n",
    "    \n",
    "    while len(q) > 0:\n",
    "        root = q.popleft()\n",
    "        \n",
    "        if root == None:\n",
    "            return []\n",
    "        elif root == \"#\":\n",
    "            serialized.append(\"#\")\n",
    "            continue\n",
    "        else:\n",
    "            serialized.append(root.val)\n",
    "        \n",
    "        if root.left != None:\n",
    "            q.append(root.left)\n",
    "        else:\n",
    "            q.append(\"#\")\n",
    "        if root.right != None:\n",
    "            q.append(root.right)\n",
    "        else:\n",
    "            q.append(\"#\")\n",
    "    \n",
    "    return serialized\n",
    "\n",
    "# de-serialize\n",
    "\n",
    "def de_lvlorder(serialized):\n",
    "    # An amazing fact is the if level-order serialization fills in each None child"
   ]
  },
  {
   "cell_type": "code",
   "execution_count": 47,
   "metadata": {
    "collapsed": false
   },
   "outputs": [
    {
     "name": "stdout",
     "output_type": "stream",
     "text": [
      "['F', 'B', 'G', 'A', 'D', '#', 'I', '#', '#', 'C', 'E', 'H', '#', '#', '#', '#', '#', '#', '#']\n",
      "\n"
     ]
    }
   ],
   "source": [
    "# Test leve-order serialize and de-serialize\n",
    "print level_order == se_lvlorder(de_lvlorder(level_order))"
   ]
  },
  {
   "cell_type": "code",
   "execution_count": 9,
   "metadata": {
    "collapsed": true
   },
   "outputs": [],
   "source": [
    "# Practice: iterative traverse a tree pre-order\n",
    "\n",
    "def iter_preorder(root):\n",
    "    track = []\n",
    "    s = list()\n",
    "    s.append(root)\n",
    "    while len(s) > 0:\n",
    "        # 因为搜索tree和访问node都在root上完成，\n",
    "        # 所以一步接触root就完成它地全部使命，所以可以直接pop\n",
    "        root = s.pop()\n",
    "        track.append(root.val) # visit the root\n",
    "        \n",
    "        # 如果right存在，加入stack等待被访问\n",
    "        if root.right != None:\n",
    "            s.append(root.right)\n",
    "        \n",
    "        # 如果left存在，加入stack等待被访问\n",
    "        # left是后加地所以会被先pop掉\n",
    "        if root.left != None:\n",
    "            s.append(root.left)\n",
    "    \n",
    "    return track"
   ]
  },
  {
   "cell_type": "code",
   "execution_count": 10,
   "metadata": {
    "collapsed": false
   },
   "outputs": [
    {
     "name": "stdout",
     "output_type": "stream",
     "text": [
      "['F', 'B', 'A', 'D', 'C', 'E', 'G', 'I', 'H']\n"
     ]
    }
   ],
   "source": [
    "# Test iterative travers a tree pre-order\n",
    "root = de_preorder(pre_order)\n",
    "track = iter_preorder(root)\n",
    "print track"
   ]
  },
  {
   "cell_type": "code",
   "execution_count": 29,
   "metadata": {
    "collapsed": false
   },
   "outputs": [],
   "source": [
    "# Practice: iterative traverse a tree post-order\n",
    "\n",
    "def iter_postorder(root):\n",
    "    track = []\n",
    "    s = list()\n",
    "    s.append(root)\n",
    "    visited = set([None]) # ensure that when reached the most left, the while loop starts vi\n",
    "    \n",
    "    while len(s) > 0:\n",
    "        # 有两个任务需要完成，第一个是搜索tree，第二个是访问Node\n",
    "        root = s[-1]\n",
    "        \n",
    "        if root == None:\n",
    "            return []\n",
    "        \n",
    "        # 首先搜索，因为后来要先访问左边，再访问右边\n",
    "        # 所以就先搜索右边，在搜索左边\n",
    "        if root.right not in visited:\n",
    "            s.append(root.right)\n",
    "        if root.left not in visited:\n",
    "            s.append(root.left)\n",
    "        \n",
    "        # 然后是访问,只有当它的left和right都被访问了,\n",
    "        # 或者left/right是None所以没有访问一说，才可以访问它\n",
    "        if (root.left in visited) and (root.right in visited):\n",
    "            s.pop() # remove from stack\n",
    "            track.append(root.val) # 访问\n",
    "            visited.add(root) # 添加到已访问\n",
    "    \n",
    "    return track"
   ]
  },
  {
   "cell_type": "code",
   "execution_count": 28,
   "metadata": {
    "collapsed": false
   },
   "outputs": [
    {
     "name": "stdout",
     "output_type": "stream",
     "text": [
      "['A', 'C', 'E', 'D', 'B', 'H', 'I', 'G', 'F']\n"
     ]
    }
   ],
   "source": [
    "# Test iterative travers a tree post-order\n",
    "root = de_preorder(pre_order)\n",
    "track = iter_postorder(root)\n",
    "print track"
   ]
  },
  {
   "cell_type": "code",
   "execution_count": 30,
   "metadata": {
    "collapsed": true
   },
   "outputs": [],
   "source": [
    "# Practice: iterative traverse a tree: in-order\n",
    "\n",
    "def iter_inorder(root):\n",
    "    # 和post-order traverse类似\n",
    "    # 在post-order中搜索tree和访问tree是分离的\n",
    "    # 需要分别执行搜索和访问\n",
    "    track = []\n",
    "    s = list()\n",
    "    s.append(root)\n",
    "    visited = set([None])\n",
    "    \n",
    "    while len(s) > 0:\n",
    "        root = s[-1]\n",
    "        \n",
    "        if root == None:\n",
    "            return []\n",
    "        \n",
    "        # 如果左边访问了，那就访问自己\n",
    "        if root.left in visited:\n",
    "            s.pop()\n",
    "            track.append(root.val)\n",
    "            visited.add(root)\n",
    "            # 只有在访问了自己之后才有必要探索右边\n",
    "            if root.right != None:\n",
    "                s.append(root.right)\n",
    "                \n",
    "        # 如果左边没有访问，那就把左边加到stack上面准备访问\n",
    "        else:\n",
    "            s.append(root.left)\n",
    "    \n",
    "    return track"
   ]
  },
  {
   "cell_type": "code",
   "execution_count": 32,
   "metadata": {
    "collapsed": false
   },
   "outputs": [
    {
     "name": "stdout",
     "output_type": "stream",
     "text": [
      "['A', 'B', 'C', 'D', 'E', 'F', 'G', 'H', 'I']\n"
     ]
    }
   ],
   "source": [
    "# Test iterative travers a tree post-order\n",
    "root = de_preorder(pre_order)\n",
    "track = iter_inorder(root)\n",
    "print track"
   ]
  },
  {
   "cell_type": "code",
   "execution_count": 64,
   "metadata": {
    "collapsed": false
   },
   "outputs": [],
   "source": [
    "# Lowest common ancestor\n",
    "\n",
    "def lowestCommonAncestor(root, p, q):\n",
    "    \"\"\"\n",
    "    :type root: TreeNode\n",
    "    :type p: value\n",
    "    :type q: value\n",
    "    :rtype: TreeNode\n",
    "    \"\"\"\n",
    "    \n",
    "    def recur_LCA(root, p, q):\n",
    "        \n",
    "        # If the root is none\n",
    "        if root == None:\n",
    "            return None, False\n",
    "        \n",
    "        \n",
    "        # Get result from left and right, even if left and right child is None, this is None-safe\n",
    "        left_res, left_isLCA = recur_LCA(root.left, p, q)\n",
    "        right_res, right_isLCA = recur_LCA(root.right, p, q)\n",
    "        \n",
    "        # If left or right finds the LCA\n",
    "        if left_isLCA: return left_res, True\n",
    "        if right_isLCA: return right_res, True\n",
    "        \n",
    "        \n",
    "        # Now we know we haven't found any LCA yet\n",
    "        \n",
    "        # If both children are nodes, then root is LCA\n",
    "        if isinstance(left_res, Node) and isinstance(right_res, Node):\n",
    "            return root, True\n",
    "        \n",
    "        # If only one of the child is node, \n",
    "        elif isinstance(left_res, Node) or isinstance(right_res, Node):\n",
    "            # if root itself is a target, then root is LCA\n",
    "            if root.val == p or root.val == q:\n",
    "                return root, True\n",
    "            # else return the node that one of child returns\n",
    "            else:\n",
    "                if isinstance(left_res, Node):\n",
    "                    return left_res, False\n",
    "                else:\n",
    "                    return right_res, False\n",
    "        \n",
    "        # None of the child finds the target\n",
    "        else:\n",
    "            if root.val == p or root.val == q:\n",
    "                return root, False\n",
    "            else:\n",
    "                return None, False\n",
    "    \n",
    "    node, is_LCA = recur_LCA(root, p, q)\n",
    "    if is_LCA:\n",
    "        return node\n",
    "    else:\n",
    "        return None"
   ]
  },
  {
   "cell_type": "code",
   "execution_count": 65,
   "metadata": {
    "collapsed": false
   },
   "outputs": [
    {
     "name": "stdout",
     "output_type": "stream",
     "text": [
      "F\n",
      "F\n",
      "D\n",
      "B\n",
      "B\n",
      "F\n",
      "None\n",
      "None\n"
     ]
    }
   ],
   "source": [
    "# Test lowest commoan ancestor\n",
    "\n",
    "pre_order = [\"F\",\"B\",\"A\",\"#\",\"#\",\"D\",\"C\",\"#\",\"#\",\"E\",\"#\",\"#\",\"G\",\"#\",\"I\",\"H\",\"#\",\"#\",\"#\"]\n",
    "root = de_preorder(pre_order)\n",
    "\n",
    "print lowestCommonAncestor(root, \"B\", \"G\").val\n",
    "print lowestCommonAncestor(root, \"B\", \"F\").val\n",
    "print lowestCommonAncestor(root, \"C\", \"E\").val\n",
    "print lowestCommonAncestor(root, \"A\", \"B\").val\n",
    "print lowestCommonAncestor(root, \"A\", \"E\").val\n",
    "print lowestCommonAncestor(root, \"A\", \"H\").val\n",
    "print lowestCommonAncestor(root, \"X\", \"Y\")\n",
    "print lowestCommonAncestor(root, \"A\", \"Z\")"
   ]
  },
  {
   "cell_type": "code",
   "execution_count": null,
   "metadata": {
    "collapsed": false
   },
   "outputs": [],
   "source": [
    "# Lowest Common Ancestor II: using path and find the path\n",
    "# Very slow becuase on the returning, each list is concatenated  \n",
    "\n",
    "def find_path(self, root, p):\n",
    "        if root == p:\n",
    "            return [root]\n",
    "        \n",
    "        if root.left == None and root.right == None:\n",
    "            return []\n",
    "        \n",
    "        if root.left != None:\n",
    "            res = self.find_path(root.left, p)\n",
    "            if res:\n",
    "                return [root] + res\n",
    "        \n",
    "        if root.right != None:\n",
    "            res = self.find_path(root.right, p)\n",
    "            if res:\n",
    "                return [root] + res\n",
    "        \n",
    "        return []\n",
    "    \n",
    "    def lowestCommonAncestor(self, root, p, q):\n",
    "        \"\"\"\n",
    "        :type root: TreeNode\n",
    "        :type p: TreeNode\n",
    "        :type q: TreeNode\n",
    "        :rtype: TreeNode\n",
    "        \"\"\"\n",
    "        \n",
    "        path_p = self.find_path(root, p)\n",
    "        \n",
    "        path_q = self.find_path(root, q)\n",
    "        \n",
    "        if len(path_p) == 0 or len(path_q) == 0:\n",
    "            return None\n",
    "        \n",
    "        for i in range(len(path_p)-1, -1, -1):\n",
    "            if path_p[i] in path_q:\n",
    "                return path_p[i]\n",
    "        \n",
    "        return None"
   ]
  },
  {
   "cell_type": "code",
   "execution_count": null,
   "metadata": {
    "collapsed": true
   },
   "outputs": [],
   "source": [
    "# Lowest Common Ancestor III\n",
    "# Use only one path all the time. Keep using the back tracking\n",
    "\n",
    "def find_path(self, root, p):\n",
    "        \n",
    "        def _recur(root, p):\n",
    "            path.append(root)\n",
    "            \n",
    "            if path[-1] == p:\n",
    "                return True\n",
    "            \n",
    "            if root.left == None and root.right == None:\n",
    "                path.pop()\n",
    "                return False\n",
    "            \n",
    "            if root.left != None:\n",
    "                res = _recur(root.left, p)\n",
    "                if res == True:\n",
    "                    return True\n",
    "            \n",
    "            if root.right != None:\n",
    "                res = _recur(root.right, p)\n",
    "                if res == True:\n",
    "                    return True\n",
    "            \n",
    "            # Not found, need to remove added root\n",
    "            path.pop()\n",
    "            return False\n",
    "        \n",
    "        if root == None:\n",
    "            print \"root is None! Empty path returned!\"\n",
    "            return []\n",
    "            \n",
    "        path = []\n",
    "        res = _recur(root, p)\n",
    "        if res == True:\n",
    "            print \"Find path from {} to {}\".format(root.val, p.val)\n",
    "        else:\n",
    "            print \"Can't find path from {} to {}\".format(root.val, p.val)\n",
    "        return path\n",
    "    \n",
    "    def lowestCommonAncestor(self, root, p, q):\n",
    "        \"\"\"\n",
    "        :type root: TreeNode\n",
    "        :type p: TreeNode\n",
    "        :type q: TreeNode\n",
    "        :rtype: TreeNode\n",
    "        \"\"\"\n",
    "        \n",
    "        path_p = self.find_path(root, p)\n",
    "        \n",
    "        path_q = self.find_path(root, q)\n",
    "        \n",
    "        for i in range(len(path_p)-1, -1, -1):\n",
    "            if path_p[i] in path_q:\n",
    "                return path_p[i]\n",
    "        \n",
    "        return None"
   ]
  },
  {
   "cell_type": "code",
   "execution_count": 5,
   "metadata": {
    "collapsed": true
   },
   "outputs": [],
   "source": [
    "# Morris In-order Traversal (O(1) space)\n",
    "# Build thread to help go to next node in-order\n",
    "# Destroy the thread after use\n",
    "\n",
    "\"\"\"\n",
    "1. Initialize current as root \n",
    "2. While current is not NULL\n",
    "   If current does not have left child\n",
    "      a) Print current’s data\n",
    "      b) Go to the right, i.e., current = current->right\n",
    "   Else\n",
    "      a) Make current as right child of the rightmost node in current's left subtree\n",
    "      b) Go to this left child, i.e., current = current->left\n",
    "\"\"\"\n",
    "\n",
    "def se_morris_inorder(root):\n",
    "    lst = []\n",
    "    cur = root        \n",
    "    \n",
    "    while cur != None:\n",
    "        \n",
    "        # If current doesn't have left, time to serialize current, then move to right tree\n",
    "        # This is the same logic in iterative traversal using stack as well\n",
    "        if cur.left == None:\n",
    "            lst.append(cur.val)\n",
    "            cur = cur.right # this step including using thread to go to next node\n",
    "        \n",
    "        # If current has left tree, before traverse it, need to ensure after dealing with left,\n",
    "        # the traversal can go back to current so it can go to right. \n",
    "        # To do that, need to build a thread from rightmost in the left tree to current node  \n",
    "        else:\n",
    "            pre = cur.left\n",
    "            # Use while loop to go to rightmost node in the left tree\n",
    "            while pre.right != None and pre.right != cur:\n",
    "                pre = pre.right\n",
    "            \n",
    "            # Now 2 situations: pre doesn't have a thread yet or pre already has thread\n",
    "            \n",
    "            # Situation 1 - doesn't have a thread yet: add a thread and start to deal with left tree\n",
    "            if pre.right == None:\n",
    "                pre.right = cur\n",
    "                cur = cur.left # Then the new outmost while loop will start traverse \n",
    "            \n",
    "            # Situation 2 - does have a thread: \n",
    "            #     It's 2nd visiting this node, that means we are 2nd time at the current node\n",
    "            #     which in turn means we have used the thread, which means we have done visiting the previous node \n",
    "            #     So we can visit the current node,  move to next node, and destroy the thread before leaving\n",
    "            else:\n",
    "                lst.append(cur.val) # change this line to if, in-order becomes pre-order traversal!!!\n",
    "                cur = cur.right\n",
    "                pre.right = None\n",
    "    \n",
    "    return lst"
   ]
  },
  {
   "cell_type": "code",
   "execution_count": 7,
   "metadata": {
    "collapsed": false
   },
   "outputs": [
    {
     "name": "stdout",
     "output_type": "stream",
     "text": [
      "['A', 'B', 'C', 'D', 'E', 'F', 'G', 'H', 'I']\n"
     ]
    }
   ],
   "source": [
    "# Test Morris In-order Traversal\n",
    "root = de_preorder(pre_order)\n",
    "print(se_morris_inorder(root))"
   ]
  }
 ],
 "metadata": {
  "kernelspec": {
   "display_name": "Python 2",
   "language": "python",
   "name": "python2"
  },
  "language_info": {
   "codemirror_mode": {
    "name": "ipython",
    "version": 2
   },
   "file_extension": ".py",
   "mimetype": "text/x-python",
   "name": "python",
   "nbconvert_exporter": "python",
   "pygments_lexer": "ipython2",
   "version": "2.7.12"
  }
 },
 "nbformat": 4,
 "nbformat_minor": 0
}
