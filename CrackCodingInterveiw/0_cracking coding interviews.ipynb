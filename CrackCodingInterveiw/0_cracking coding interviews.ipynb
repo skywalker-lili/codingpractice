{
 "cells": [
  {
   "cell_type": "code",
   "execution_count": 30,
   "metadata": {
    "collapsed": false
   },
   "outputs": [],
   "source": [
    "# encoding: utf-8\n",
    "# 8.9 Parens\n",
    "\n",
    "# Helper function for generate_parens_dup\n",
    "def insert_paren(paren,i):\n",
    "    \"\"\"\n",
    "    Insert a pair of paren \"()\" after at the given position i of original paren\n",
    "    \"\"\"\n",
    "    left = paren[0:i+1]\n",
    "    right = paren[i+1:]\n",
    "    return left+\"()\"+right\n",
    "\n",
    "# Brutal forcely produce parens, using a set to avoid duplications\n",
    "def generate_parens_dup(i):\n",
    "    \"\"\"\n",
    "    Generate parens by adding new paren \"()\" at each possible position based on the previous parens\n",
    "    \"\"\"\n",
    "    if i == 0:\n",
    "        return set([\"\"])\n",
    "    else:\n",
    "        previous_parens = generate_parens_dup(i-1) # got previous parens\n",
    "        \n",
    "        new_parens = set([])\n",
    "        for paren in previous_parens:\n",
    "            for i in range(len(paren)):\n",
    "                if paren[i] == \"(\":\n",
    "                    new_paren = insert_paren(paren, i) # insert a paren\n",
    "                    new_parens.add(new_paren)\n",
    "            new_parens.add((\"()\"+paren)) # add a \"()\" at the begining of paren\n",
    "        \n",
    "        return new_parens\n",
    "\n",
    "\n",
    "# Build parens based on given allowance of left and right bracket\n",
    "# Since after using each left/right bracket, the existing part of a paren is different\n",
    "# there is no way to produce duplicates\n",
    "def add_paren(result, left_allowance, right_allowance, paren_placeholder, i):\n",
    "    \"\"\"\n",
    "    Recursively generate parens givent the allowance of left and right\n",
    "    \"\"\"\n",
    "    # If left brackets are negative or more right is used than left, impossible to keep valid in the current parens\n",
    "    if (left_allowance < 0) or right_allowance < left_allowance: \n",
    "        return # impossible to form valid paren. No need to recurse under this situation, \n",
    "    else:\n",
    "        if left_allowance == 0 and right_allowance == 0: # used up all brackets, output a paren \n",
    "            result.add(\"\".join(paren_placeholder))\n",
    "        else:\n",
    "            # New decided bracket is left\n",
    "            paren_placeholder[i] = \"(\"\n",
    "            add_paren(result, left_allowance-1, right_allowance, paren_placeholder, i+1)\n",
    "            \n",
    "            # New decided bracket is right \n",
    "            paren_placeholder[i] = \")\"\n",
    "            add_paren(result, left_allowance, right_allowance-1, paren_placeholder, i+1)\n",
    "        \n",
    "def generate_parens(i):\n",
    "    \"\"\"\n",
    "    Given an i, the length of final parens is known. Then at each place, decide to put an\n",
    "    left or a right parent. Based this steps's decision, keep move on in this branch until finish a parens.\n",
    "    When all branches are done, return all parens\n",
    "    \"\"\"\n",
    "    result = set([])\n",
    "    paren_placeholder = [None]*(2*i)\n",
    "    add_paren(result, i, i, paren_placeholder, 0)\n",
    "    return result"
   ]
  },
  {
   "cell_type": "code",
   "execution_count": 29,
   "metadata": {
    "collapsed": false
   },
   "outputs": [
    {
     "name": "stdout",
     "output_type": "stream",
     "text": [
      "(set(['']), set(['']))\n",
      "(set(['()']), set(['()']))\n",
      "(set(['()()', '(())']), set(['()()', '(())']))\n",
      "(set(['()(())', '((()))', '(()())', '(())()', '()()()']), set(['()()()', '((()))', '()(())', '(())()', '(()())']))\n"
     ]
    }
   ],
   "source": [
    "# Test \n",
    "for i in range(4):\n",
    "    print(generate_parens_dup(i), generate_parens(i))"
   ]
  }
 ],
 "metadata": {
  "kernelspec": {
   "display_name": "Python 2",
   "language": "python",
   "name": "python2"
  },
  "language_info": {
   "codemirror_mode": {
    "name": "ipython",
    "version": 2
   },
   "file_extension": ".py",
   "mimetype": "text/x-python",
   "name": "python",
   "nbconvert_exporter": "python",
   "pygments_lexer": "ipython2",
   "version": "2.7.12"
  }
 },
 "nbformat": 4,
 "nbformat_minor": 0
}
