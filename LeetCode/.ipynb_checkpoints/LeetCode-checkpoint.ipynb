{
 "cells": [
  {
   "cell_type": "code",
   "execution_count": 13,
   "metadata": {
    "collapsed": false
   },
   "outputs": [],
   "source": [
    "# nth_ugly_number\n",
    "class Solution(object):\n",
    "    def nthUglyNumber(self, n):\n",
    "        \"\"\"\n",
    "        :type n: int\n",
    "        :rtype: int\n",
    "        \"\"\"\n",
    "        ugly_pool = [1, 2, 3, 4, 5, 6, 8, 9, 10, 12] # a list to store ugly numbers that are already found by this program\n",
    "        \n",
    "        # base case when n <= 10\n",
    "        if n <= 10: return ugly_pool[n-1]\n",
    "        \n",
    "        # if n is bigger than 10, try to generate new urgly numbers\n",
    "        # the rule is to find what is the smallest ugly number after the largest one in the pool.\n",
    "        # no matter what, the new ugly number is produced by multiply by 2, 3 or 5. So just need to see\n",
    "        # what are the smallest new ugly number produced by *2, *3 and *5 and then select the smallest among \n",
    "        # the 3, we get the new smallest ugly number\n",
    "         \n",
    "        two_pointer = 6 # initial index of the number to trying\n",
    "        three_pointer = 4\n",
    "        five_pointer = 2\n",
    "        \n",
    "        while len(ugly_pool) < n:\n",
    "            while ugly_pool[two_pointer] * 2 <= ugly_pool[-1]:\n",
    "                two_pointer += 1\n",
    "            # now the two_pointer is updated to make sure *2 will be larger than largest number in ugly_pool \n",
    "            while ugly_pool[three_pointer] * 3 <= ugly_pool[-1]:\n",
    "                three_pointer += 1     \n",
    "            while ugly_pool[five_pointer] * 5 <= ugly_pool[-1]:\n",
    "                five_pointer += 1\n",
    "\n",
    "            candidate_pool = []\n",
    "            candidate_pool.append(ugly_pool[two_pointer] * 2)\n",
    "            candidate_pool.append(ugly_pool[three_pointer] * 3)\n",
    "            candidate_pool.append(ugly_pool[five_pointer] * 5)\n",
    "\n",
    "            chosen_one = min(candidate_pool)\n",
    "            ugly_pool.append(chosen_one)\n",
    "        \n",
    "        return ugly_pool[-1]"
   ]
  },
  {
   "cell_type": "code",
   "execution_count": 15,
   "metadata": {
    "collapsed": true
   },
   "outputs": [],
   "source": [
    "# Maximum depth of binary tree\n",
    "# ----------------------------\n",
    "# Definition for a binary tree node.\n",
    "# class TreeNode(object):\n",
    "#     def __init__(self, x):\n",
    "#         self.val = x\n",
    "#         self.left = None\n",
    "#         self.right = None\n",
    "\n",
    "class Solution(object):\n",
    "    def maxDepth(self, root):\n",
    "        \"\"\"\n",
    "        :type root: TreeNode\n",
    "        :rtype: int\n",
    "        \"\"\"\n",
    "        if root == None: return 0\n",
    "        \n",
    "        # base case: the Node is a leaf \n",
    "        if root.left == None or root.right == None:\n",
    "            return 1\n",
    "        \n",
    "        # other cases\n",
    "        return 1 + max(self.maxDepth(root.left), self.maxDepth(root.right))"
   ]
  },
  {
   "cell_type": "code",
   "execution_count": 19,
   "metadata": {
    "collapsed": true
   },
   "outputs": [],
   "source": [
    "# Minimum depth of binary tree\n",
    "# ----------------------------\n",
    "# Definition for a binary tree node.\n",
    "# class TreeNode(object):\n",
    "#     def __init__(self, x):\n",
    "#         self.val = x\n",
    "#         self.left = None\n",
    "#         self.right = None\n",
    "\n",
    "class Solution(object):\n",
    "    def minDepth(self, root):\n",
    "        \"\"\"\n",
    "        :type root: TreeNode\n",
    "        :rtype: int\n",
    "        \"\"\"\n",
    "        if root == None: return 0\n",
    "        \n",
    "        # base case: the Node is a leaf \n",
    "        if root.left == None and root.right == None:\n",
    "            return 1\n",
    "        \n",
    "        # base case 2: the node doesn't have a left\n",
    "        if root.left == None: return 1 + self.minDepth(root.right)\n",
    "        \n",
    "        # base case 3: the node doesn't have a right\n",
    "        if root.right == None: return self.minDepth(root.left)+1\n",
    "        \n",
    "        # other cases\n",
    "        return 1 + min(self.minDepth(root.left), self.minDepth(root.right))"
   ]
  },
  {
   "cell_type": "code",
   "execution_count": 16,
   "metadata": {
    "collapsed": true
   },
   "outputs": [],
   "source": [
    "# Same tree\n",
    "# --------------------\n",
    "# Definition for a binary tree node.\n",
    "# class TreeNode(object):\n",
    "#     def __init__(self, x):\n",
    "#         self.val = x\n",
    "#         self.left = None\n",
    "#         self.right = None\n",
    "\n",
    "class Solution(object):\n",
    "    def isSameTree(self, p, q):\n",
    "        \"\"\"\n",
    "        :type p: TreeNode\n",
    "        :type q: TreeNode\n",
    "        :rtype: bool\n",
    "        \"\"\"\n",
    "        if p == None and q == None: return True\n",
    "        if p == None or q == None: return False\n",
    "        \n",
    "        # base case\n",
    "        if p.val != q.val: return False\n",
    "        \n",
    "        # other cases\n",
    "        return (self.isSameTree(p.left, q.left) and self.isSameTree(p.right, q.right))"
   ]
  },
  {
   "cell_type": "code",
   "execution_count": 1,
   "metadata": {
    "collapsed": true
   },
   "outputs": [],
   "source": [
    "# Balanced binary tree\n",
    "# ----------------------------------\n",
    "# Definition for a binary tree node.\n",
    "# class TreeNode(object):\n",
    "#     def __init__(self, x):\n",
    "#         self.val = x\n",
    "#         self.left = None\n",
    "#         self.right = None\n",
    "\n",
    "class Solution(object):\n",
    "    # helper function to find the depth\n",
    "    def maxDepth(self, root):\n",
    "        \"\"\"\n",
    "        :type root: TreeNode\n",
    "        :rtype: int\n",
    "        \"\"\"\n",
    "        if root == None: return 0\n",
    "        \n",
    "        # base case: the Node is a leaf \n",
    "        if root.left == None and root.right == None:\n",
    "            return 1\n",
    "        \n",
    "        # other cases\n",
    "        return 1 + max(self.maxDepth(root.left), self.maxDepth(root.right))\n",
    "    \n",
    "    \n",
    "    def isBalanced(self, root):\n",
    "        \"\"\"\n",
    "        :type root: TreeNode\n",
    "        :rtype: bool\n",
    "        \"\"\"        \n",
    "        if not root: return True\n",
    "        \n",
    "        # base case: when there is no next node at all\n",
    "        if root.left == None and root.right == None: return True\n",
    "        \n",
    "        # other cases: check the first subtress see if balanced\n",
    "        if((self.maxDepth(root.left) - self.maxDepth(root.right))**2 <= 1):\n",
    "           return self.isBalanced(root.left) and self.isBalanced(root.right)\n",
    "        else:\n",
    "           return False\n",
    "        "
   ]
  },
  {
   "cell_type": "code",
   "execution_count": 27,
   "metadata": {
    "collapsed": false
   },
   "outputs": [],
   "source": [
    "# Invert Binary Tree\n",
    "# ------------------------\n",
    "# Definition for a binary tree node.\n",
    "# class TreeNode(object):\n",
    "#     def __init__(self, x):\n",
    "#         self.val = x\n",
    "#         self.left = None\n",
    "#         self.right = None\n",
    "\n",
    "class Solution(object):\n",
    "    def invertTree(self, root):\n",
    "        \"\"\"\n",
    "        :type root: TreeNode\n",
    "        :rtype: TreeNode\n",
    "        \"\"\"\n",
    "        if root == None: return root\n",
    "            \n",
    "        #  use a intermediate node to store the left and right\n",
    "        intermediate = root.left\n",
    "        root.left = self.invertTree(root.right)\n",
    "        root.right = self.invertTree(intermediate)\n",
    "        return root\n",
    "        "
   ]
  },
  {
   "cell_type": "code",
   "execution_count": 46,
   "metadata": {
    "collapsed": true
   },
   "outputs": [],
   "source": [
    "# Two Sum\n",
    "# -------\n",
    "class Solution(object):\n",
    "    def twoSum(self, nums, target):\n",
    "        \"\"\"\n",
    "        :type nums: List[int]\n",
    "        :type target: int\n",
    "        :rtype: List[int]\n",
    "        \"\"\"\n",
    "        if nums == []: return False\n",
    "        \n",
    "        nums_dict = {item: i for i, item in enumerate(nums)}\n",
    "        \n",
    "        for i, item in enumerate(nums):\n",
    "            complement = target - item\n",
    "            if complement in nums_dict.keys() and complement != item:\n",
    "                return [i+1, nums_dict[complement]+1]\n",
    "        return False"
   ]
  },
  {
   "cell_type": "code",
   "execution_count": 55,
   "metadata": {
    "collapsed": false
   },
   "outputs": [],
   "source": [
    "# Subsets\n",
    "# ----------------\n",
    "class Solution(object):\n",
    "    def subsets(self, nums):\n",
    "        \"\"\"\n",
    "        :type nums: List[int]\n",
    "        :rtype: List[List[int]]\n",
    "        \"\"\"\n",
    "        if len(nums) == 0: return [[]]\n",
    "        if len(nums) == 1: return [[],[nums[0]]]\n",
    "        \n",
    "        nums.sort()\n",
    "        \n",
    "        subsets = self.subsets(nums[0:len(nums)-1])\n",
    "        print subsets\n",
    "        for subset in list(subsets):\n",
    "            new_subset = list(subset) # NEVER alter item that is being iterated. always create a new one\n",
    "            new_subset.append(nums[-1])\n",
    "            subsets.append(new_subset)\n",
    "\n",
    "        return subsets"
   ]
  },
  {
   "cell_type": "code",
   "execution_count": 64,
   "metadata": {
    "collapsed": true
   },
   "outputs": [],
   "source": [
    "# Valid Palindrome\n",
    "# ----------------\n",
    "class Solution(object):\n",
    "    def isPalindrome(self, s):\n",
    "        \"\"\"\n",
    "        :type s: str\n",
    "        :rtype: bool\n",
    "        \"\"\"\n",
    "        if s == None: return True\n",
    "        s = s.lower()\n",
    "        i = 0; j = len(s)-1\n",
    "        while i < j:\n",
    "            while s[i].isalnum() == False and i < j: \n",
    "                i += 1\n",
    "            while s[j].isalnum() == False and i < j: \n",
    "                j -= 1\n",
    "            if s[i] != s[j]: return False\n",
    "            i += 1\n",
    "            j -= 1\n",
    "        return True"
   ]
  },
  {
   "cell_type": "code",
   "execution_count": 97,
   "metadata": {
    "collapsed": true
   },
   "outputs": [],
   "source": [
    "# Implement strstr()\n",
    "# -------------------\n",
    "class Solution(object):\n",
    "    def strStr(self, haystack, needle):\n",
    "        \"\"\"\n",
    "        :type haystack: str\n",
    "        :type needle: str\n",
    "        :rtype: int\n",
    "        \"\"\"\n",
    "        if needle == \"\": return 0\n",
    "        if len(haystack) == 0: return -1 \n",
    "        \n",
    "        needle_len = len(needle)\n",
    "        for i in range(0, len(haystack) - needle_len + 1):\n",
    "            #print i\n",
    "            #print haystack[i:i+needle_len], needle\n",
    "            if haystack[i:i+needle_len] == needle:\n",
    "                return i\n",
    "        return -1"
   ]
  },
  {
   "cell_type": "code",
   "execution_count": 156,
   "metadata": {
    "collapsed": false
   },
   "outputs": [],
   "source": [
    "# Reverse Words in a String\n",
    "# -------------------------\n",
    "class Solution(object):\n",
    "    def reverseWords(self, s):\n",
    "        \"\"\"\n",
    "        :type s: str\n",
    "        :rtype: str\n",
    "        \"\"\"\n",
    "        if s == \"\": return \"\"\n",
    "        \n",
    "        words = [] # a list to contain words\n",
    "        start = -1\n",
    "        i = len(s)-1\n",
    "        while i >= 0:\n",
    "            if start == -1 and s[i] != \" \": start = i # mark the start of a word\n",
    "            if start != -1 and (s[i] == \" \" or i == 0): # loop over a word, find the end of a word; or case is for last word\n",
    "                end = i\n",
    "                if s[i] == \" \":\n",
    "                    words.append(s[end+1:start+1]) # append the word into words\n",
    "                else:\n",
    "                    words.append(s[end:start+1])\n",
    "                start = -1\n",
    "            i -= 1\n",
    "            #print i\n",
    "        #print words\n",
    "        \n",
    "        return \" \".join(words)"
   ]
  },
  {
   "cell_type": "code",
   "execution_count": 20,
   "metadata": {
    "collapsed": false
   },
   "outputs": [],
   "source": [
    "# 7. Reverse Integer\n",
    "class Solution(object):\n",
    "    def reverse(self, x):\n",
    "        \"\"\"\n",
    "        :type x: int\n",
    "        :rtype: int\n",
    "        \"\"\"\n",
    "        # basically, look at the last number and put it into another variable\n",
    "        \n",
    "        # preserve negativity\n",
    "        a = 0 \n",
    "        b = x if x > 0 else -x\n",
    "        while b > 0: # means x haven't been divided up yet\n",
    "            a = a * 10 + b % 10\n",
    "            b = b / 10\n",
    "        \n",
    "        if x < 0: a = -a # make sure to put the negativity back\n",
    "        if a > 2**31 or a < - 2**31: return 0 # wtf overflow? just to pass the weird requirement of leetcode\n",
    "        return a"
   ]
  },
  {
   "cell_type": "code",
   "execution_count": 36,
   "metadata": {
    "collapsed": false
   },
   "outputs": [],
   "source": [
    "# 9. Palindrome Number\n",
    "class Solution(object):\n",
    "    def isPalindrome(self, x):\n",
    "        \"\"\"\n",
    "        :type x: int\n",
    "        :rtype: bool\n",
    "        \"\"\"\n",
    "        if x <= 0:\n",
    "            return False if x < 0 else True\n",
    "        a, b = x, 0\n",
    "        while a != 0:\n",
    "            b, a = b * 10 + a % 10, a / 10\n",
    "        return b == x\n",
    "        "
   ]
  },
  {
   "cell_type": "code",
   "execution_count": 41,
   "metadata": {
    "collapsed": false
   },
   "outputs": [],
   "source": [
    "# 13. Roman to Integer\n",
    "class Solution(object):\n",
    "    def romanToInt(self, s):\n",
    "        \"\"\"\n",
    "        :type s: str\n",
    "        :rtype: int\n",
    "        \"\"\"\n",
    "        roman = {'I':1, 'V':5, 'X':10, 'L':50, 'C':100, 'D':500, 'M':1000}\n",
    "        ans = 0\n",
    "        for i in range(len(s)-1):\n",
    "            letter = s[i]\n",
    "            next_letter = s[i+1]\n",
    "            if roman[letter] < roman[next_letter]:\n",
    "                ans -= roman[letter]\n",
    "            else:\n",
    "                ans += roman[letter]\n",
    "        ans += roman[s[-1]]\n",
    "        return ans"
   ]
  },
  {
   "cell_type": "code",
   "execution_count": 58,
   "metadata": {
    "collapsed": false
   },
   "outputs": [],
   "source": [
    "# 14. Longest Common Prefix\n",
    "class Solution(object):\n",
    "    def longestCommonPrefix(self, strs):\n",
    "        \"\"\"\n",
    "        :type strs: List[str]\n",
    "        :rtype: str\n",
    "        \"\"\"\n",
    "        if len(strs) <= 1:\n",
    "            return strs[0] if len(strs) == 1 else \"\"\n",
    "        i = 0\n",
    "        j = 0\n",
    "        while j < len(strs[0]):\n",
    "            for string in strs:\n",
    "                if len(string)-1 < j: return strs[0][0:i]\n",
    "                if strs[0][j] != string[j]: return strs[0][0:i]\n",
    "            j += 1\n",
    "            i += 1\n",
    "        return strs[0][0:i]\n",
    "        "
   ]
  },
  {
   "cell_type": "code",
   "execution_count": 3,
   "metadata": {
    "collapsed": false
   },
   "outputs": [],
   "source": [
    "# 19. Remove Nth Node From End of List\n",
    "# Definition for singly-linked list.\n",
    "# class ListNode(object):\n",
    "#     def __init__(self, x):\n",
    "#         self.val = x\n",
    "#         self.next = None\n",
    "\n",
    "class Solution(object):\n",
    "    def removeNthFromEnd(self, head, n):\n",
    "        \"\"\"\n",
    "        :type head: ListNode\n",
    "        :type n: int\n",
    "        :rtype: ListNode\n",
    "        \"\"\"\n",
    "        pointer_i = head # pointer_i is used to find the last node\n",
    "        pointer_j = head # pointer_j is used to find the nth node\n",
    "        \n",
    "        # pointer_i need to be the most advance\n",
    "        dum_i = 0\n",
    "        while dum_i < n and pointer_i.next != None:\n",
    "            pointer_i = head.next\n",
    "            dum_i += 1\n",
    "        \n",
    "        while pointer_i.next != None:\n",
    "            pointer_i = pointer_i.next\n",
    "            pointer_j = pointer_j.next\n",
    "        \n",
    "        # while ends, now pointer_i is at the end of list\n",
    "        pointer_j.next = pointer_j.next.next\n",
    "        \n",
    "        return pointer\n",
    "        "
   ]
  },
  {
   "cell_type": "code",
   "execution_count": null,
   "metadata": {
    "collapsed": true
   },
   "outputs": [],
   "source": [
    "# 20. Valid Parentheses\n",
    "class Solution(object):\n",
    "    def isValid(self, s):\n",
    "        \"\"\"\n",
    "        :type s: str\n",
    "        :rtype: bool\n",
    "        \"\"\"\n",
    "        dct = {'(':')', '[':']', '{':'}'}\n",
    "        stk = []\n",
    "        for c in s:\n",
    "            if dct.get(c): # if it's a left bracket, add\n",
    "                stk.append(c)\n",
    "            elif len(stk) == 0 or dct[stk[-1]] != c: # if the first bracket is a right or the last one in the stack isn't a matching c\n",
    "                return False\n",
    "            else:\n",
    "                stk.pop() # rest case: matching, can remove the bracket on the top\n",
    "                \n",
    "        return len(stk) == 0\n",
    "            "
   ]
  },
  {
   "cell_type": "code",
   "execution_count": null,
   "metadata": {
    "collapsed": true
   },
   "outputs": [],
   "source": [
    "# 21. Merge Two Sorted Lists"
   ]
  },
  {
   "cell_type": "code",
   "execution_count": null,
   "metadata": {
    "collapsed": true
   },
   "outputs": [],
   "source": [
    "# 26. Remove Duplicates from Sorted Array\n",
    "class Solution(object):\n",
    "    def removeDuplicates(self, nums):\n",
    "        \"\"\"\n",
    "        :type nums: List[int]\n",
    "        :rtype: int\n",
    "        \"\"\"\n",
    "        if len(nums) < 2: return True\n",
    "        \n",
    "        end = 0\n",
    "        for i in range(1, len(nums)):\n",
    "            if nums[end] != nums[i]:\n",
    "                end += 1\n",
    "                nums[end] = nums[i]\n",
    "        return nums[0:(end+1)]"
   ]
  },
  {
   "cell_type": "code",
   "execution_count": null,
   "metadata": {
    "collapsed": true
   },
   "outputs": [],
   "source": [
    "# 80. Remove Duplicates from Sorted Array II\n",
    "class Solution(object):\n",
    "    def removeDuplicates(self, nums):\n",
    "        \"\"\"\n",
    "        :type nums: List[int]\n",
    "        :rtype: int\n",
    "        \"\"\"\n",
    "        if len(nums) < 3: return True\n",
    "        \n",
    "        end = 1\n",
    "        for i in range(2, len(nums)):\n",
    "            if nums[end-1] != nums[i]:\n",
    "                end += 1\n",
    "                nums[end] = nums[i]\n",
    "        return nums[0:(end+1)]"
   ]
  },
  {
   "cell_type": "code",
   "execution_count": 9,
   "metadata": {
    "collapsed": true
   },
   "outputs": [],
   "source": [
    "# remove duplicate letters\n",
    "class Solution(object):\n",
    "    def removeDuplicateLetters(self, s):\n",
    "        \"\"\"\n",
    "        :type s: str\n",
    "        :rtype: str\n",
    "        \"\"\"\n",
    "        bag = set()\n",
    "        s = s.split()\n",
    "        for i,l in enumerate(s):\n",
    "            if l in bag:\n",
    "                s.pop(i)\n",
    "            else:\n",
    "                bag.add(l)\n",
    "        return s"
   ]
  },
  {
   "cell_type": "code",
   "execution_count": null,
   "metadata": {
    "collapsed": true
   },
   "outputs": [],
   "source": []
  },
  {
   "cell_type": "code",
   "execution_count": 2,
   "metadata": {
    "collapsed": true
   },
   "outputs": [],
   "source": [
    "# 311. Sparse Matrix Multiplication\n",
    "class Solution(object):\n",
    "    def multiply(self, A, B):\n",
    "        \"\"\"\n",
    "        :type A: List[List[int]]\n",
    "        :type B: List[List[int]]\n",
    "        :rtype: List[List[int]]\n",
    "        \"\"\"\n",
    "        # use the any() to filter out empty lines in A and B\n",
    "        # each row in A_i, B_i would just be indice of non-zero elements in A, B\n",
    "        A_i = [[i for i,v in enumerate(row) if v] if any(row) else [] for row in A]\n",
    "        B_i = [[i for i,v in enumerate(row) if v] if any(row) else [] for row in B]\n",
    "                    \n",
    "        # out_put is a i*j zero matrix, i - # of rows of A, j - # of cols in B\n",
    "        out_put = [[0 for j in range(len(B[0]))] for i in range(len(A))] \n",
    "        \n",
    "        for i, row_i in enumerate(A_i): # i is the index of row in output\n",
    "            for k in row_i: # k is NOT the column index in output\n",
    "                for j in B_i[k]: # j is the column index in output\n",
    "                    out_put[i][j] += A[i][k] * B[k][j] # k is index that is being running summed\n",
    "        \n",
    "        return out_put"
   ]
  },
  {
   "cell_type": "code",
   "execution_count": 6,
   "metadata": {
    "collapsed": false
   },
   "outputs": [],
   "source": [
    "# 98. Validate Binary Search Tree\n",
    "\n",
    "# Definition for a binary tree node.\n",
    "# class TreeNode(object):\n",
    "#     def __init__(self, x):\n",
    "#         self.val = x\n",
    "#         self.left = None\n",
    "#         self.right = None\n",
    "\n",
    "class Solution(object):\n",
    "    def isValidBST(self, root):\n",
    "        \"\"\"\n",
    "        :type root: TreeNode\n",
    "        :rtype: bool\n",
    "        \"\"\"\n",
    "        return self.isVBST(root, float('-inf'), float('inf'))\n",
    "    \n",
    "    def isVBST(self, node, min, max):\n",
    "        if node == None: # node is None\n",
    "            return True\n",
    "        elif node.val != None: # node has a value\n",
    "            if node.val <= min or node.val >= max:\n",
    "                return False\n",
    "            else:\n",
    "                return self.isVBST(node.left, min, node.val) and self.isVBST(node.right, node.val, max)\n",
    "        else: # node value is None\n",
    "            return False"
   ]
  },
  {
   "cell_type": "code",
   "execution_count": 40,
   "metadata": {
    "collapsed": false
   },
   "outputs": [],
   "source": [
    "# 149. Max Points on a Line\n",
    "\n",
    "# Definition for a point.\n",
    "# class Point(object):\n",
    "#     def __init__(self, a=0, b=0):\n",
    "#         self.x = a\n",
    "#         self.y = b\n",
    "\n",
    "class Solution(object):\n",
    "    def maxPoints(self, points):\n",
    "        \"\"\"\n",
    "        :type points: List[Point]\n",
    "        :rtype: int\n",
    "        \"\"\"\n",
    "        from collections import defaultdict\n",
    "       \n",
    "        d = defaultdict(int) # dictionary to record slope-count pairs\n",
    "        res = 0\n",
    "        \n",
    "        for i in xrange(len(points)):\n",
    "            a = points[i] # point a\n",
    "            same = 1 # always have at least 1 point on a line\n",
    "            vertical = 0 # used to record how many points on the verticle line of point a\n",
    "            temp = 0 # temporary maximum points on a line starts with point a\n",
    "            d.clear()\n",
    "            \n",
    "            for j in xrange(i+1,len(points)):\n",
    "                b = points[j] # point b\n",
    "                # If a and b on the same verticle line, no slope can calculate\n",
    "                if a.x == b.x: \n",
    "                    if a.y == b.y: # same position\n",
    "                        same += 1\n",
    "                    else: # a and b are two points but in the verticle line\n",
    "                        vertical += 1\n",
    "                \n",
    "                # If a and b have slope to calculate\n",
    "                else:\n",
    "                    slope = 1.0*(b.y-a.y)/(b.x-a.x)\n",
    "                    d[slope] += 1\n",
    "                    temp = max(d[slope], temp)\n",
    "            \n",
    "            # After iterate all points b, temp has the max # of points for lines with a slope,\n",
    "            # verticle has max # for line without slope. \n",
    "            # Pick a max one, plus same points, is the max # for all lines pass a. \n",
    "            # Tehn compare with current max: res\n",
    "            res = max(res, same + max(vertical, temp))\n",
    "        \n",
    "        return res        "
   ]
  },
  {
   "cell_type": "code",
   "execution_count": 48,
   "metadata": {
    "collapsed": false
   },
   "outputs": [],
   "source": []
  },
  {
   "cell_type": "code",
   "execution_count": null,
   "metadata": {
    "collapsed": false
   },
   "outputs": [],
   "source": []
  }
 ],
 "metadata": {
  "kernelspec": {
   "display_name": "Python 2",
   "language": "python",
   "name": "python2"
  },
  "language_info": {
   "codemirror_mode": {
    "name": "ipython",
    "version": 2
   },
   "file_extension": ".py",
   "mimetype": "text/x-python",
   "name": "python",
   "nbconvert_exporter": "python",
   "pygments_lexer": "ipython2",
   "version": "2.7.12"
  }
 },
 "nbformat": 4,
 "nbformat_minor": 0
}
