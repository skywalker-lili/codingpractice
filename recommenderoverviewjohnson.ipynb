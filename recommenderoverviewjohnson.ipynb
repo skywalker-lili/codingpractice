{
 "cells": [
  {
   "cell_type": "markdown",
   "metadata": {},
   "source": [
    "A brief code-based intro to recommender systems\n",
    "====\n",
    "\n",
    "This follows chapter 2 of \"Programming Collective Intelligence\", by T. Segaran (great book), first transcribed and adapted for the Computational Methods for Information Science Research class by Paul Ginsparg, and further by me first for that class and now for this one.\n",
    "\n",
    "Our first order of business is to access a bunch of useful statistical and scientific computing libraries."
   ]
  },
  {
   "cell_type": "code",
   "execution_count": 34,
   "metadata": {
    "collapsed": false,
    "scrolled": true
   },
   "outputs": [
    {
     "name": "stdout",
     "output_type": "stream",
     "text": [
      "Populating the interactive namespace from numpy and matplotlib\n"
     ]
    }
   ],
   "source": [
    "%pylab inline\n",
    "from scipy import stats"
   ]
  },
  {
   "cell_type": "markdown",
   "metadata": {},
   "source": [
    "Now, let's create a \"database\" of users, items, and ratings.  In a real app this would come from an actual database, but it's generally smart to develop and test on toy, tiny datasets: you can check your answers, do exploration easily, run algorithms quickly."
   ]
  },
  {
   "cell_type": "code",
   "execution_count": 35,
   "metadata": {
    "collapsed": false
   },
   "outputs": [],
   "source": [
    "critics={'Lisa Rose': {'Lady in the Water': 2.5, 'Snakes on a Plane': 3.5,\n",
    " 'Just My Luck': 3.0, 'Superman Returns': 3.5, 'You, Me and Dupree': 2.5, \n",
    " 'The Night Listener': 3.0},\n",
    "'Gene Seymour': {'Lady in the Water': 3.0, 'Snakes on a Plane': 3.5, \n",
    " 'Just My Luck': 1.5, 'Superman Returns': 5.0, 'The Night Listener': 3.0, \n",
    " 'You, Me and Dupree': 3.5}, \n",
    "'Michael Phillips': {'Lady in the Water': 2.5, 'Snakes on a Plane': 3.0,\n",
    " 'Superman Returns': 3.5, 'The Night Listener': 4.0},\n",
    "'Claudia Puig': {'Snakes on a Plane': 3.5, 'Just My Luck': 3.0,\n",
    " 'The Night Listener': 4.5, 'Superman Returns': 4.0, \n",
    " 'You, Me and Dupree': 2.5},\n",
    "'Mick LaSalle': {'Lady in the Water': 3.0, 'Snakes on a Plane': 4.0, \n",
    " 'Just My Luck': 2.0, 'Superman Returns': 3.0, 'The Night Listener': 3.0,\n",
    " 'You, Me and Dupree': 2.0}, \n",
    "'Jack Matthews': {'Lady in the Water': 3.0, 'Snakes on a Plane': 4.0,\n",
    " 'The Night Listener': 3.0, 'Superman Returns': 5.0, 'You, Me and Dupree': 3.5},\n",
    "'Toby': {'Snakes on a Plane':4.5,'You, Me and Dupree':1.0,'Superman Returns':4.0}}"
   ]
  },
  {
   "cell_type": "markdown",
   "metadata": {},
   "source": [
    "Note that we have created a relatively dense database for illustration; in practice, the database is usually very sparse."
   ]
  },
  {
   "cell_type": "code",
   "execution_count": 36,
   "metadata": {
    "collapsed": false
   },
   "outputs": [
    {
     "data": {
      "text/plain": [
       "(7, [5, 6, 5, 6, 3, 6, 4])"
      ]
     },
     "execution_count": 36,
     "metadata": {},
     "output_type": "execute_result"
    }
   ],
   "source": [
    "len(critics), map(len,critics.values())"
   ]
  },
  {
   "cell_type": "code",
   "execution_count": 37,
   "metadata": {
    "collapsed": false
   },
   "outputs": [
    {
     "data": {
      "text/plain": [
       "{'Snakes on a Plane': 4.5, 'Superman Returns': 4.0, 'You, Me and Dupree': 1.0}"
      ]
     },
     "execution_count": 37,
     "metadata": {},
     "output_type": "execute_result"
    }
   ],
   "source": [
    "critics['Toby']"
   ]
  },
  {
   "cell_type": "markdown",
   "metadata": {},
   "source": [
    "Let's set up the mathematical intuition by looking at a world with only two movies, and thinking about what it means for two users to be similar."
   ]
  },
  {
   "cell_type": "code",
   "execution_count": 38,
   "metadata": {
    "collapsed": false
   },
   "outputs": [
    {
     "data": {
      "text/plain": [
       "{'LaSalle': (2.0, 4.0),\n",
       " 'Matthews': (3.5, 4.0),\n",
       " 'Puig': (2.5, 3.5),\n",
       " 'Rose': (2.5, 3.5),\n",
       " 'Seymour': (3.5, 3.5),\n",
       " 'Toby': (1.0, 4.5)}"
      ]
     },
     "execution_count": 38,
     "metadata": {},
     "output_type": "execute_result"
    }
   ],
   "source": [
    "dupree='You, Me and Dupree'\n",
    "snakes='Snakes on a Plane'\n",
    "ds={c.split()[-1]:(critics[c][dupree],critics[c][snakes])\n",
    "    for c in critics if dupree in critics[c] and snakes in critics[c]}\n",
    "ds"
   ]
  },
  {
   "cell_type": "code",
   "execution_count": 39,
   "metadata": {
    "collapsed": false
   },
   "outputs": [
    {
     "data": {
      "image/png": "[encoded data removed]",
      "text/plain": [
       "<matplotlib.figure.Figure at 0x1417df98>"
      ]
     },
     "metadata": {},
     "output_type": "display_data"
    }
   ],
   "source": [
    "#now plot them\n",
    "figure(figsize=(5,5))\n",
    "xlim(0,5)\n",
    "ylim(0,5)\n",
    "offset={c:.01 for c in ds}\n",
    "offset['Rose']=0\n",
    "offset['Puig']=-.15 #move Puig down to avoid collision\n",
    "plot([ds[crit][0] for crit in ds],[ds[crit][1] for crit in ds],'o')\n",
    "for crit in ds: text(ds[crit][0]+.05,ds[crit][1]+offset[crit],crit)\n",
    "xlabel('dupree')\n",
    "ylabel('snakes');"
   ]
  },
  {
   "cell_type": "markdown",
   "metadata": {},
   "source": [
    "Computing similarity\n",
    "----\n",
    "\n",
    "Euclidian distance says \"points near each other in the space are similar\", using what is essentially the Pythagorean theorem (but, instead of triangles in a 2-D space, it computes it in a space where there's one dimension for every movie in common). "
   ]
  },
  {
   "cell_type": "code",
   "execution_count": 40,
   "metadata": {
    "collapsed": false
   },
   "outputs": [],
   "source": [
    "def sim_distance(prefs,person1,person2):\n",
    "    # Get the list of shared_items\n",
    "    si=[item for item in prefs[person1] if item in prefs[person2]]\n",
    "\n",
    "    # if they have no ratings in common, return 0\n",
    "    if len(si)==0: return 0\n",
    "    \n",
    "    v1=array([prefs[person1][item] for item in si])\n",
    "    v2=array([prefs[person2][item] for item in si])\n",
    "\n",
    "    # use numpy euclidean distance (sqrt(sum of squares))\n",
    "    dist=norm(v1-v2)\n",
    "\n",
    "    #transform to similarity ranging from 0 to 1\n",
    "    simd = 1/(1+dist**2) \n",
    "    \n",
    "    # We can also penalize matches based on small amounts of data.\n",
    "    # if len(si) < 25: simd = simd * (min(25, len(si)) / 25.0) \n",
    "    \n",
    "    # Truncate to three decimal places\n",
    "    return float(\"%.3f\"%simd)"
   ]
  },
  {
   "cell_type": "markdown",
   "metadata": {},
   "source": [
    "Note that when we compute the similarity between Lisa and Claudia, it's not 1 -- because they have other movies in common besides just Snakes and Dupree.  If we _only_ had those two, the similarity would have been 1 because the distance was zero."
   ]
  },
  {
   "cell_type": "code",
   "execution_count": 41,
   "metadata": {
    "collapsed": false
   },
   "outputs": [
    {
     "data": {
      "text/plain": [
       "0.286"
      ]
     },
     "execution_count": 41,
     "metadata": {},
     "output_type": "execute_result"
    }
   ],
   "source": [
    "sim_distance(critics,'Lisa Rose','Claudia Puig')"
   ]
  },
  {
   "cell_type": "markdown",
   "metadata": {},
   "source": [
    "A different notion of similarity, based on Pearson correlation: people are similar if their pattern of rating is the same, even if they use different scales."
   ]
  },
  {
   "cell_type": "code",
   "execution_count": 42,
   "metadata": {
    "collapsed": false
   },
   "outputs": [],
   "source": [
    "#[+1 if correlated, -1 if anticorrelated]\n",
    "def show_pearson(prefs,c1,c2):\n",
    "    si=[item for item in prefs[c1] if item in prefs[c2]]\n",
    "\n",
    "    figure(figsize=(5,5))\n",
    "    xlim(0,5)\n",
    "    ylim(0,5)\n",
    "    xdata = [prefs[c1][item] for item in si]\n",
    "    ydata = [prefs[c2][item] for item in si]\n",
    "\n",
    "    slope, intercept, r_value, p_value, std_err = stats.linregress(xdata,ydata)\n",
    "    print 'pearson r =', '%.2f'%r_value\n",
    "\n",
    "    xlabel(c1)\n",
    "    ylabel(c2)\n",
    "    \n",
    "    plot(xdata,ydata,'o')\n",
    "    plot(slope*array(range(0,6))+intercept,'--')\n",
    "    for item in si:\n",
    "        text(prefs[c1][item],prefs[c2][item],item)"
   ]
  },
  {
   "cell_type": "code",
   "execution_count": 43,
   "metadata": {
    "collapsed": false
   },
   "outputs": [
    {
     "name": "stdout",
     "output_type": "stream",
     "text": [
      "pearson r = 0.99\n",
      "pearson r = 0.57\n",
      "pearson r = 0.41\n",
      "pearson r = -1.00\n"
     ]
    },
    {
     "data": {
      "image/png": "[encoded data removed]",
      "text/plain": [
       "<matplotlib.figure.Figure at 0x14280470>"
      ]
     },
     "metadata": {},
     "output_type": "display_data"
    },
    {
     "data": {
      "image/png": "[encoded data removed]",
      "text/plain": [
       "<matplotlib.figure.Figure at 0x142808d0>"
      ]
     },
     "metadata": {},
     "output_type": "display_data"
    },
    {
     "data": {
      "image/png": "[encoded data removed]",
      "text/plain": [
       "<matplotlib.figure.Figure at 0xa944080>"
      ]
     },
     "metadata": {},
     "output_type": "display_data"
    },
    {
     "data": {
      "image/png": "[encoded data removed]",
      "text/plain": [
       "<matplotlib.figure.Figure at 0x151a2fd0>"
      ]
     },
     "metadata": {},
     "output_type": "display_data"
    }
   ],
   "source": [
    "show_pearson(critics,'Lisa Rose','Toby')\n",
    "show_pearson(critics,'Lisa Rose','Claudia Puig')\n",
    "show_pearson(critics,'Mick LaSalle','Gene Seymour')\n",
    "show_pearson(critics,'Toby','Michael Phillips')"
   ]
  },
  {
   "cell_type": "code",
   "execution_count": 44,
   "metadata": {
    "collapsed": false
   },
   "outputs": [],
   "source": [
    "#now define similarity measure, analogous to sim_distance\n",
    "def sim_pearson(prefs,c1,c2):\n",
    "    si=[item for item in prefs[c1] if item in prefs[c2]]\n",
    "    if len(si)==0: return 0\n",
    "    xdata = [prefs[c1][item] for item in si]\n",
    "    ydata = [prefs[c2][item] for item in si]\n",
    "    r,p=stats.pearsonr(xdata,ydata)\n",
    "    if isnan(r): return 0\n",
    "    \n",
    "    # We can also penalize matches based on small amounts of data.\n",
    "    # if len(si) < 25: r = r * (min(25, len(si)) / 25.0) \n",
    "    return float(\"%.3f\"%r)"
   ]
  },
  {
   "cell_type": "markdown",
   "metadata": {},
   "source": [
    "Finding neighbors\n",
    "--------\n",
    "And now we're ready to do some user-user recommendations.  We first find the \"closest neighbors\" in the database, the most similar ones, along with their similarity score."
   ]
  },
  {
   "cell_type": "code",
   "execution_count": 45,
   "metadata": {
    "collapsed": false
   },
   "outputs": [],
   "source": [
    "# Returns the best matches for person from the prefs dictionary. \n",
    "# Number of results and similarity function are optional params.\n",
    "def topMatches(prefs, person, n=5, similarity=sim_pearson):\n",
    "  scores=[(other, similarity(prefs,person,other))\n",
    "                  for other in prefs if other!=person]\n",
    "  return sorted(scores,key=lambda x:x[1],reverse=True)[:n]"
   ]
  },
  {
   "cell_type": "markdown",
   "metadata": {},
   "source": [
    "Who are Toby's neighbors?  And could we use this to recommend, e.g., people to follow in Twitter?  "
   ]
  },
  {
   "cell_type": "code",
   "execution_count": 46,
   "metadata": {
    "collapsed": false
   },
   "outputs": [
    {
     "data": {
      "text/plain": [
       "[('Lisa Rose', 0.991),\n",
       " ('Mick LaSalle', 0.924),\n",
       " ('Claudia Puig', 0.893),\n",
       " ('Jack Matthews', 0.663),\n",
       " ('Gene Seymour', 0.381),\n",
       " ('Michael Phillips', -1.0)]"
      ]
     },
     "execution_count": 46,
     "metadata": {},
     "output_type": "execute_result"
    }
   ],
   "source": [
    "topMatches(critics,'Toby',n=6)"
   ]
  },
  {
   "cell_type": "markdown",
   "metadata": {},
   "source": [
    "Note that with the Euclidian distance metric below, things are quite different, both in terms of order and relative weights (notice, in particular, Michael Phillips: the numerical ratings are quite close to each other for both the movies Toby and Michael have in common, so Euclidian and cosine would see them as \"similar\", whereas Pearson sees it as when Toby likes something more, Michael likes it less). \n",
    "\n",
    "Distance metrics (and recommendation algorithms) can give pretty different results, depending on the data that's there and the assumptions of the metric/algorithm.  One moral of the story is that this kind of modeling/machine learning work often empirically tries a number of metrics and algorithms to find one that \"works best\" in a given dataset."
   ]
  },
  {
   "cell_type": "code",
   "execution_count": 47,
   "metadata": {
    "collapsed": false
   },
   "outputs": [
    {
     "data": {
      "text/plain": [
       "[('Mick LaSalle', 0.308),\n",
       " ('Michael Phillips', 0.286),\n",
       " ('Claudia Puig', 0.235),\n",
       " ('Lisa Rose', 0.222),\n",
       " ('Jack Matthews', 0.118),\n",
       " ('Gene Seymour', 0.108)]"
      ]
     },
     "execution_count": 47,
     "metadata": {},
     "output_type": "execute_result"
    }
   ],
   "source": [
    "topMatches(critics,'Toby', n=6, similarity=sim_distance)"
   ]
  },
  {
   "cell_type": "markdown",
   "metadata": {},
   "source": [
    "Making the recommendations\n",
    "----\n",
    "Once you have the neighbors, you can combine their ratings for movies our target user hasn't seen, weighting their opinions by how similar they are to the target user."
   ]
  },
  {
   "cell_type": "code",
   "execution_count": 48,
   "metadata": {
    "collapsed": false
   },
   "outputs": [],
   "source": [
    "# Gets recommendations for a person by using a weighted average\n",
    "# of every other user's rankings\n",
    "def getRecommendations(prefs,person,similarity=sim_pearson):\n",
    "  totals={}\n",
    "  simSums={}\n",
    "  for other in prefs:\n",
    "    # don't compare me to myself\n",
    "    if other==person: continue\n",
    "    \n",
    "    # ignore scores of zero or lower -- could have a different cutoff\n",
    "    sim=similarity(prefs,person,other)\n",
    "    if sim<=0: continue\n",
    "\n",
    "    for item in prefs[other]:\n",
    "      # only score movies I haven't seen yet\n",
    "      if item not in prefs[person] or prefs[person][item]==0:\n",
    "        if item not in totals:\n",
    "            totals[item]=0\n",
    "            simSums[item]=0\n",
    "        # Compute the weighted rating and accumulate the weights.\n",
    "        simSums[item] += sim\n",
    "        totals[item] += prefs[other][item]*sim\n",
    "        \n",
    "        # If you wanted to do what the slides do and normalize against\n",
    "        # each person's average, that would look like this.  It's slow\n",
    "        # unless you cache the averages.\n",
    "        # Note that you'd also have to add back in the target user's\n",
    "        # average when creating the normalized list below.\n",
    "        #totals[item] += (prefs[other][item] - average(prefs[other].values())) * sim \n",
    "\n",
    "  # Create the normalized list\n",
    "  rankings=[(item,float(\"%.3f\"%(totals[item]/simSums[item]))) for item in totals]\n",
    "\n",
    "  # Return the sorted list\n",
    "  return sorted(rankings,key=lambda x:x[1],reverse=True)"
   ]
  },
  {
   "cell_type": "markdown",
   "metadata": {},
   "source": [
    "What should Toby watch?"
   ]
  },
  {
   "cell_type": "code",
   "execution_count": 49,
   "metadata": {
    "collapsed": false
   },
   "outputs": [
    {
     "data": {
      "text/plain": [
       "[('The Night Listener', 3.348),\n",
       " ('Lady in the Water', 2.833),\n",
       " ('Just My Luck', 2.531)]"
      ]
     },
     "execution_count": 49,
     "metadata": {},
     "output_type": "execute_result"
    }
   ],
   "source": [
    "getRecommendations(critics,'Toby')"
   ]
  },
  {
   "cell_type": "code",
   "execution_count": 50,
   "metadata": {
    "collapsed": false
   },
   "outputs": [
    {
     "data": {
      "text/plain": [
       "[('The Night Listener', 3.5),\n",
       " ('Lady in the Water', 2.756),\n",
       " ('Just My Luck', 2.462)]"
      ]
     },
     "execution_count": 50,
     "metadata": {},
     "output_type": "execute_result"
    }
   ],
   "source": [
    "#or use other distance measure\n",
    "getRecommendations(critics,'Toby',similarity=sim_distance)"
   ]
  },
  {
   "cell_type": "markdown",
   "metadata": {},
   "source": [
    "And now, questions, then back to the slides for a bit.  Then...\n",
    "\n",
    "Item-item recommendations\n",
    "====\n"
   ]
  },
  {
   "cell_type": "markdown",
   "metadata": {},
   "source": [
    "Now let's look at it from an item-item perspective (i.e., \"people who have bought X also bought Y\" from Amazon).  The straightforward way to do this is to just flip the matrix so that items are on the rows and users are the columns; then we can use the same machinery we've been using."
   ]
  },
  {
   "cell_type": "code",
   "execution_count": 51,
   "metadata": {
    "collapsed": false
   },
   "outputs": [],
   "source": [
    "#first reverse role of items and objects\n",
    "def transformPrefs(prefs):\n",
    "  result={}\n",
    "  for person in prefs:\n",
    "    for item in prefs[person]:\n",
    "      if item not in result: result[item]={}\n",
    "      \n",
    "      # Flip item and person\n",
    "      result[item][person]=prefs[person][item]\n",
    "  return result"
   ]
  },
  {
   "cell_type": "code",
   "execution_count": 52,
   "metadata": {
    "collapsed": false
   },
   "outputs": [
    {
     "data": {
      "text/plain": [
       "{'Just My Luck': {'Claudia Puig': 3.0,\n",
       "  'Gene Seymour': 1.5,\n",
       "  'Lisa Rose': 3.0,\n",
       "  'Mick LaSalle': 2.0},\n",
       " 'Lady in the Water': {'Gene Seymour': 3.0,\n",
       "  'Jack Matthews': 3.0,\n",
       "  'Lisa Rose': 2.5,\n",
       "  'Michael Phillips': 2.5,\n",
       "  'Mick LaSalle': 3.0},\n",
       " 'Snakes on a Plane': {'Claudia Puig': 3.5,\n",
       "  'Gene Seymour': 3.5,\n",
       "  'Jack Matthews': 4.0,\n",
       "  'Lisa Rose': 3.5,\n",
       "  'Michael Phillips': 3.0,\n",
       "  'Mick LaSalle': 4.0,\n",
       "  'Toby': 4.5},\n",
       " 'Superman Returns': {'Claudia Puig': 4.0,\n",
       "  'Gene Seymour': 5.0,\n",
       "  'Jack Matthews': 5.0,\n",
       "  'Lisa Rose': 3.5,\n",
       "  'Michael Phillips': 3.5,\n",
       "  'Mick LaSalle': 3.0,\n",
       "  'Toby': 4.0},\n",
       " 'The Night Listener': {'Claudia Puig': 4.5,\n",
       "  'Gene Seymour': 3.0,\n",
       "  'Jack Matthews': 3.0,\n",
       "  'Lisa Rose': 3.0,\n",
       "  'Michael Phillips': 4.0,\n",
       "  'Mick LaSalle': 3.0},\n",
       " 'You, Me and Dupree': {'Claudia Puig': 2.5,\n",
       "  'Gene Seymour': 3.5,\n",
       "  'Jack Matthews': 3.5,\n",
       "  'Lisa Rose': 2.5,\n",
       "  'Mick LaSalle': 2.0,\n",
       "  'Toby': 1.0}}"
      ]
     },
     "execution_count": 52,
     "metadata": {},
     "output_type": "execute_result"
    }
   ],
   "source": [
    "movies=transformPrefs(critics)\n",
    "movies"
   ]
  },
  {
   "cell_type": "markdown",
   "metadata": {},
   "source": [
    "Now topmatches gives similar movies rather than similar reviewers, and so it's _exactly_ \"People who liked Superman Returns also liked X\".\n"
   ]
  },
  {
   "cell_type": "code",
   "execution_count": 53,
   "metadata": {
    "collapsed": false
   },
   "outputs": [
    {
     "data": {
      "text/plain": [
       "[('You, Me and Dupree', 0.658),\n",
       " ('Lady in the Water', 0.488),\n",
       " ('Snakes on a Plane', 0.112),\n",
       " ('The Night Listener', -0.18),\n",
       " ('Just My Luck', -0.423)]"
      ]
     },
     "execution_count": 53,
     "metadata": {},
     "output_type": "execute_result"
    }
   ],
   "source": [
    "topMatches(movies,'Superman Returns')"
   ]
  },
  {
   "cell_type": "markdown",
   "metadata": {},
   "source": [
    "And instead of recommending movies to people, you can \"recommend\" people to movies.  This might be fun for marketing, for instance: you might want to give 100 free tickets to the people who are likely to like the movie the most (and thus, rate it, tell their friends, and spread the word)."
   ]
  },
  {
   "cell_type": "code",
   "execution_count": 54,
   "metadata": {
    "collapsed": false
   },
   "outputs": [
    {
     "data": {
      "text/plain": [
       "[('Michael Phillips', 4.0), ('Jack Matthews', 3.0)]"
      ]
     },
     "execution_count": 54,
     "metadata": {},
     "output_type": "execute_result"
    }
   ],
   "source": [
    "getRecommendations(movies,'Just My Luck')"
   ]
  },
  {
   "cell_type": "markdown",
   "metadata": {},
   "source": [
    "Building a model\n",
    "----\n",
    "So far, our code computes all the similarities on the fly, every time you want recommendations.  This is called a \"memory-based\" approach to recommending and becomes really expensive for a large dataset.  There are ad-hoc ways to reduce these costs (for instance, you might only maintain a fraction of your users in memory as candidate \"neighbors\"), but an alterative way is to build a similarity model (\"model-based\" approach) by pre-computing the similarities.\n",
    "\n",
    "Typically when you do this, you build the model by pre-computing the similarity between items rather than between users; items' profiles change more slowly than users' profiles, and there are often fewer items than users, and both make item similarities more useful.  "
   ]
  },
  {
   "cell_type": "code",
   "execution_count": 55,
   "metadata": {
    "collapsed": false
   },
   "outputs": [],
   "source": [
    "def calculateSimilarItems(prefs,n=10):\n",
    "  # Create a dictionary of items showing which other items they are most similar to.\n",
    "  result={}\n",
    "  # Invert the preference matrix to be item-centric\n",
    "  itemPrefs=transformPrefs(prefs)\n",
    "  c=0\n",
    "  for item in itemPrefs:\n",
    "    # Status updates for large datasets\n",
    "    c+=1\n",
    "    if c%100==0: print \"%d / %d\" % (c,len(itemPrefs))\n",
    "    # Find the most similar items to this one\n",
    "    scores=topMatches(itemPrefs,item,n=n,similarity=sim_distance)\n",
    "    result[item]=scores\n",
    "  return result"
   ]
  },
  {
   "cell_type": "markdown",
   "metadata": {},
   "source": [
    "Now, essentially, we have a database of item similarities.  Again, in a \"real\" system we'd probably jam these into a proper database somewhere."
   ]
  },
  {
   "cell_type": "code",
   "execution_count": 56,
   "metadata": {
    "collapsed": false
   },
   "outputs": [
    {
     "data": {
      "text/plain": [
       "{'Just My Luck': [('Lady in the Water', 0.222),\n",
       "  ('You, Me and Dupree', 0.182),\n",
       "  ('The Night Listener', 0.154),\n",
       "  ('Snakes on a Plane', 0.105),\n",
       "  ('Superman Returns', 0.065)],\n",
       " 'Lady in the Water': [('You, Me and Dupree', 0.4),\n",
       "  ('The Night Listener', 0.286),\n",
       "  ('Snakes on a Plane', 0.222),\n",
       "  ('Just My Luck', 0.222),\n",
       "  ('Superman Returns', 0.091)],\n",
       " 'Snakes on a Plane': [('Lady in the Water', 0.222),\n",
       "  ('The Night Listener', 0.182),\n",
       "  ('Superman Returns', 0.167),\n",
       "  ('Just My Luck', 0.105),\n",
       "  ('You, Me and Dupree', 0.051)],\n",
       " 'Superman Returns': [('Snakes on a Plane', 0.167),\n",
       "  ('The Night Listener', 0.103),\n",
       "  ('Lady in the Water', 0.091),\n",
       "  ('Just My Luck', 0.065),\n",
       "  ('You, Me and Dupree', 0.053)],\n",
       " 'The Night Listener': [('Lady in the Water', 0.286),\n",
       "  ('Snakes on a Plane', 0.182),\n",
       "  ('Just My Luck', 0.154),\n",
       "  ('You, Me and Dupree', 0.148),\n",
       "  ('Superman Returns', 0.103)],\n",
       " 'You, Me and Dupree': [('Lady in the Water', 0.4),\n",
       "  ('Just My Luck', 0.182),\n",
       "  ('The Night Listener', 0.148),\n",
       "  ('Superman Returns', 0.053),\n",
       "  ('Snakes on a Plane', 0.051)]}"
      ]
     },
     "execution_count": 56,
     "metadata": {},
     "output_type": "execute_result"
    }
   ],
   "source": [
    "itemsim=calculateSimilarItems(critics)\n",
    "itemsim"
   ]
  },
  {
   "cell_type": "markdown",
   "metadata": {},
   "source": [
    "And now we can generate recommendations using the pre-computed item similarities.  Computing the item similarity matrix can take some time up front, but it becomes very fast to compute the recommendations after you build the model because instead of comparing the user to every other user, we just get the items they've rated and look up the similar items in the dataset."
   ]
  },
  {
   "cell_type": "code",
   "execution_count": 57,
   "metadata": {
    "collapsed": false
   },
   "outputs": [],
   "source": [
    "def getRecommendedItems(prefs,itemMatch,user):\n",
    "  userRatings=prefs[user]\n",
    "  scores={}\n",
    "  totalSim={}\n",
    "  # Loop over items rated by this user\n",
    "  for (item,rating) in userRatings.items( ):\n",
    "\n",
    "    # Loop over items similar to this one\n",
    "    for (item2,similarity) in itemMatch[item]:\n",
    "      # Ignore if this user has already rated this item\n",
    "      if item2 in userRatings: continue\n",
    "      # Weighted sum of rating times similarity\n",
    "      if item2 not in scores:\n",
    "          scores[item2]=0\n",
    "          totalSim[item2]=0\n",
    "      scores[item2]+=similarity*rating\n",
    "      # Sum of all the similarities\n",
    "      totalSim[item2]+=similarity\n",
    "\n",
    "  # Divide each total score by total weighting to get an average\n",
    "  rankings=[(item,float(\"%.3f\"%(scores[item]/totalSim[item]))) for item in scores]\n",
    "\n",
    "  return sorted(rankings,key=lambda x:x[1],reverse=True)"
   ]
  },
  {
   "cell_type": "markdown",
   "metadata": {},
   "source": [
    "Again, the recommendations can be pretty different, because the model is different.  In general, item-item algorithms test out as a little more accurate than user-user ones in offline testing, where you \"hide\" some ratings from the recommender and see how close your predicted ones are to the actual ones."
   ]
  },
  {
   "cell_type": "code",
   "execution_count": 58,
   "metadata": {
    "collapsed": false
   },
   "outputs": [
    {
     "name": "stdout",
     "output_type": "stream",
     "text": [
      "User-user:  [('The Night Listener', 3.5), ('Lady in the Water', 2.756), ('Just My Luck', 2.462)]\n",
      "Item-item:  [('The Night Listener', 3.185), ('Just My Luck', 2.598), ('Lady in the Water', 2.473)]\n"
     ]
    }
   ],
   "source": [
    "print \"User-user: \", getRecommendations(critics,'Toby',similarity=sim_distance)\n",
    "print \"Item-item: \", getRecommendedItems(critics,itemsim,'Toby')"
   ]
  },
  {
   "cell_type": "markdown",
   "metadata": {},
   "source": [
    "A bigger dataset\n",
    "----\n",
    "\n",
    "Finally, a quick demo of this on the smallest MovieLens ratings dataset, which was a commonly used dataset early in the history of collaborative filtering."
   ]
  },
  {
   "cell_type": "code",
   "execution_count": 59,
   "metadata": {
    "collapsed": false
   },
   "outputs": [],
   "source": [
    "#http://www.grouplens.org/node/12\n",
    "#http://www.grouplens.org/system/files/ml-100k.zip\n",
    "#contains\n",
    "#u.item list of movie ids and titles\n",
    "#u.data ratings     user id, movie id, rating, timestamp\n",
    "#stored in ml-100k/ folder\n",
    "\n",
    "def loadMovieLens(path='ml-100k/'):\n",
    "  # Get movie titles\n",
    "  movies={}\n",
    "  for line in open(path+'u.item'):\n",
    "    (id,title)=line.split('|')[0:2]\n",
    "    movies[id]=title\n",
    "  \n",
    "  # Load data\n",
    "  prefs={}\n",
    "  for line in open(path+'u.data'):\n",
    "    (user,movieid,rating,ts)=line.split('\\t')\n",
    "    if user not in prefs: prefs[user]={}\n",
    "    prefs[user][movies[movieid]]=float(rating)\n",
    "  return prefs"
   ]
  },
  {
   "cell_type": "code",
   "execution_count": 60,
   "metadata": {
    "collapsed": false
   },
   "outputs": [],
   "source": [
    "mprefs=loadMovieLens()"
   ]
  },
  {
   "cell_type": "code",
   "execution_count": 61,
   "metadata": {
    "collapsed": false
   },
   "outputs": [
    {
     "data": {
      "text/plain": [
       "(943, [188, 230, 193, 198, 44, 20, 201, 236, 25, 21])"
      ]
     },
     "execution_count": 61,
     "metadata": {},
     "output_type": "execute_result"
    }
   ],
   "source": [
    "len(mprefs),map(len,mprefs.values()[:10])"
   ]
  },
  {
   "cell_type": "code",
   "execution_count": 62,
   "metadata": {
    "collapsed": false
   },
   "outputs": [
    {
     "data": {
      "text/plain": [
       "[('8 Seconds (1994)', 1.0),\n",
       " ('Calendar Girl (1993)', 1.0),\n",
       " ('Hurricane Streets (1998)', 1.0),\n",
       " (\"Ed's Next Move (1996)\", 1.0),\n",
       " ('Wild Reeds (1994)', 1.0),\n",
       " ('Scarlet Letter, The (1926)', 1.0),\n",
       " ('Vermin (1998)', 1.0),\n",
       " ('Outlaw, The (1943)', 1.0),\n",
       " ('Rhyme & Reason (1997)', 1.0),\n",
       " ('Beans of Egypt, Maine, The (1994)', 1.0)]"
      ]
     },
     "execution_count": 62,
     "metadata": {},
     "output_type": "execute_result"
    }
   ],
   "source": [
    "topMatches(transformPrefs(mprefs),'Terminator, The (1984)',n=10)"
   ]
  },
  {
   "cell_type": "code",
   "execution_count": 63,
   "metadata": {
    "collapsed": false
   },
   "outputs": [
    {
     "data": {
      "text/plain": [
       "[('Legal Deceit (1997)', 5.0),\n",
       " ('They Made Me a Criminal (1939)', 5.0),\n",
       " (\"Someone Else's America (1995)\", 5.0),\n",
       " ('Letter From Death Row, A (1998)', 5.0),\n",
       " ('Ballad of Narayama, The (Narayama Bushiko) (1958)', 5.0),\n",
       " ('Saint of Fort Washington, The (1993)', 5.0),\n",
       " ('Faust (1994)', 5.0),\n",
       " ('Star Kid (1997)', 5.0),\n",
       " ('Little City (1998)', 5.0),\n",
       " ('Mina Tannenbaum (1994)', 5.0),\n",
       " ('Great Day in Harlem, A (1994)', 5.0),\n",
       " ('Sliding Doors (1998)', 5.0),\n",
       " ('Boys, Les (1997)', 5.0),\n",
       " ('Hearts and Minds (1996)', 5.0),\n",
       " ('N\\xe9nette et Boni (1996)', 4.83),\n",
       " (\"C'est arriv\\xe9 pr\\xe8s de chez vous (1992)\", 4.794),\n",
       " ('Braindead (1992)', 4.709),\n",
       " ('Guantanamera (1994)', 4.686),\n",
       " ('Wrong Trousers, The (1993)', 4.652),\n",
       " ('Pather Panchali (1955)', 4.616),\n",
       " ('Magic Hour, The (1998)', 4.611),\n",
       " ('Close Shave, A (1995)', 4.582),\n",
       " ('Maya Lin: A Strong Clear Vision (1994)', 4.527),\n",
       " ('Fear of a Black Hat (1993)', 4.496),\n",
       " ('Ruling Class, The (1972)', 4.464),\n",
       " ('My Man Godfrey (1936)', 4.463),\n",
       " ('Leading Man, The (1996)', 4.457),\n",
       " ('Paths of Glory (1957)', 4.443),\n",
       " ('Wallace & Gromit: The Best of Aardman Animation (1996)', 4.439),\n",
       " ('Horseman on the Roof, The (Hussard sur le toit, Le) (1995)', 4.426)]"
      ]
     },
     "execution_count": 63,
     "metadata": {},
     "output_type": "execute_result"
    }
   ],
   "source": [
    "#get recommendations for user 87\n",
    "getRecommendations(mprefs,'4')[:30]"
   ]
  },
  {
   "cell_type": "code",
   "execution_count": 64,
   "metadata": {
    "collapsed": false
   },
   "outputs": [
    {
     "name": "stdout",
     "output_type": "stream",
     "text": [
      "100 / 1664\n",
      "200 / 1664\n",
      "300 / 1664\n",
      "400 / 1664\n",
      "500 / 1664\n",
      "600 / 1664\n",
      "700 / 1664\n",
      "800 / 1664\n",
      "900 / 1664\n",
      "1000 / 1664\n",
      "1100 / 1664\n",
      "1200 / 1664\n",
      "1300 / 1664\n",
      "1400 / 1664\n",
      "1500 / 1664\n",
      "1600 / 1664\n"
     ]
    }
   ],
   "source": [
    "#now item based\n",
    "itemsim=calculateSimilarItems(mprefs,n=50)"
   ]
  },
  {
   "cell_type": "code",
   "execution_count": 65,
   "metadata": {
    "collapsed": false
   },
   "outputs": [
    {
     "data": {
      "text/plain": [
       "[('To Cross the Rubicon (1991)', 5.0),\n",
       " ('Adventures of Pinocchio, The (1996)', 5.0),\n",
       " ('Love Affair (1994)', 5.0),\n",
       " ('Magnificent Seven, The (1954)', 5.0),\n",
       " ('Paths of Glory (1957)', 5.0),\n",
       " ('Tin Men (1987)', 5.0),\n",
       " ('Endless Summer 2, The (1994)', 5.0),\n",
       " ('Village of the Damned (1995)', 5.0),\n",
       " ('Careful (1992)', 5.0),\n",
       " ('Inventing the Abbotts (1997)', 5.0),\n",
       " (\"White Man's Burden (1995)\", 5.0),\n",
       " ('2 Days in the Valley (1996)', 5.0),\n",
       " ('Big Green, The (1995)', 5.0),\n",
       " ('Night Flier (1997)', 5.0),\n",
       " ('Close Shave, A (1995)', 5.0),\n",
       " ('Showgirls (1995)', 5.0),\n",
       " (\"Someone Else's America (1995)\", 5.0),\n",
       " ('Nadja (1994)', 5.0),\n",
       " (\"C'est arriv\\xe9 pr\\xe8s de chez vous (1992)\", 5.0),\n",
       " ('Country Life (1994)', 5.0),\n",
       " ('Milk Money (1994)', 5.0),\n",
       " ('Angel and the Badman (1947)', 5.0),\n",
       " ('Burnt Offerings (1976)', 5.0),\n",
       " ('Old Man and the Sea, The (1958)', 5.0),\n",
       " ('Flirt (1995)', 5.0),\n",
       " ('Fifth Element, The (1997)', 5.0),\n",
       " ('Heaven & Earth (1993)', 5.0),\n",
       " ('U.S. Marshalls (1998)', 5.0),\n",
       " ('Barcelona (1994)', 5.0),\n",
       " ('Mrs. Brown (Her Majesty, Mrs. Brown) (1997)', 5.0)]"
      ]
     },
     "execution_count": 65,
     "metadata": {},
     "output_type": "execute_result"
    }
   ],
   "source": [
    "#takes a while to build, but now recommendations instantaneous, and indep\n",
    "# of number of users. experiment with this dataset...\n",
    "getRecommendedItems(mprefs,itemsim,'4')[:30]"
   ]
  },
  {
   "cell_type": "code",
   "execution_count": 66,
   "metadata": {
    "collapsed": false
   },
   "outputs": [
    {
     "name": "stdout",
     "output_type": "stream",
     "text": [
      "[('Blues Brothers 2000 (1998)', 5.0), ('Liar Liar (1997)', 5.0), ('Lost Highway (1997)', 5.0), ('Mimic (1997)', 3.0), ('Air Force One (1997)', 5.0), ('Event Horizon (1997)', 4.0), ('Contact (1997)', 5.0), ('Scream (1996)', 4.0), (\"One Flew Over the Cuckoo's Nest (1975)\", 4.0), ('Spawn (1997)', 2.0), (\"Ulee's Gold (1997)\", 5.0), ('In & Out (1997)', 5.0), ('Wedding Singer, The (1998)', 5.0), ('Cop Land (1997)', 5.0), ('Starship Troopers (1997)', 4.0), ('Client, The (1994)', 3.0), ('Incognito (1997)', 5.0), ('Seven (Se7en) (1995)', 4.0), ('Wonderland (1997)', 5.0), ('Desperate Measures (1998)', 5.0), ('Conspiracy Theory (1997)', 3.0), ('Assignment, The (1997)', 5.0), ('Star Wars (1977)', 5.0), ('Indiana Jones and the Last Crusade (1989)', 3.0)]\n"
     ]
    }
   ],
   "source": [
    "print [(p, mprefs['4'][p]) for p in mprefs['4']]"
   ]
  },
  {
   "cell_type": "code",
   "execution_count": 66,
   "metadata": {
    "collapsed": false
   },
   "outputs": [],
   "source": []
  }
 ],
 "metadata": {
  "kernelspec": {
   "display_name": "Python 2",
   "language": "python",
   "name": "python2"
  },
  "language_info": {
   "codemirror_mode": {
    "name": "ipython",
    "version": 2
   },
   "file_extension": ".py",
   "mimetype": "text/x-python",
   "name": "python",
   "nbconvert_exporter": "python",
   "pygments_lexer": "ipython2",
   "version": "2.7.10"
  }
 },
 "nbformat": 4,
 "nbformat_minor": 0
}
