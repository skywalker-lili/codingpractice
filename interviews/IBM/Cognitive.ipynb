{
 "cells": [
  {
   "cell_type": "code",
   "execution_count": 9,
   "metadata": {
    "collapsed": false
   },
   "outputs": [],
   "source": [
    "# 1. Reverse words\n",
    "import sys\n",
    "\n",
    "def reverse_word(string):\n",
    "    return \"\".join([string[i].lower() for i in range(len(string)-1, -1, -1) if string[i].isalnum()])\n",
    "\n",
    "for line in sys.stdin:\n",
    "    splited = line.split()\n",
    "    for i in range(len(splited)):\n",
    "        splited[i] = reverse_word(splited[i])\n",
    "    splited = splited[::-1] # reverse the list of words\n",
    "    first_word = splited[0]\n",
    "    first_word = first_word[0].upper() + first_word[1:]\n",
    "    splited[0] = first_word\n",
    "    print(\" \".join(splited))"
   ]
  },
  {
   "cell_type": "code",
   "execution_count": null,
   "metadata": {
    "collapsed": true
   },
   "outputs": [],
   "source": [
    "# Test using the command in windows\n",
    "\"type test.txt | python reverse.py\""
   ]
  },
  {
   "cell_type": "code",
   "execution_count": 47,
   "metadata": {
    "collapsed": false
   },
   "outputs": [],
   "source": [
    "# 2. Python sum of logP\n",
    "import math\n",
    "\n",
    "def sum_log(lst):\n",
    "    # transform the string into floating numbers\n",
    "    nums = [float(num) for num in lst]\n",
    "    \n",
    "    # find the maximum num\n",
    "    logPMax = -sys.float_info.max\n",
    "    for num in nums:\n",
    "        if num > logPMax:\n",
    "            logPMax = num\n",
    "    \n",
    "    # Caculate the logP using the formula\n",
    "    # Let's use Pmax * di to represent Pi, then log(di) = log(Pi) - log(Pmax)\n",
    "    # log(P1+P2+...Pn) = log(Pmax*d1 + Pmax*d2...+Pmax*dn) = logPmax + [log(d1)+log(d2)+...log(dn)]\n",
    "    sum_delta = 0\n",
    "    for i in range(len(nums)):\n",
    "        log_delta = nums[i] - logPMax\n",
    "        sum_delta += math.exp(log_delta)\n",
    "    \n",
    "    return round((logPMax + math.log(sum_delta)), 3)"
   ]
  },
  {
   "cell_type": "code",
   "execution_count": 48,
   "metadata": {
    "collapsed": false
   },
   "outputs": [
    {
     "name": "stdout",
     "output_type": "stream",
     "text": [
      "Original Ps are [0.01, 0.09, 0.7, 0.15, 0.05]\n",
      "Input Log(P)s are [-4.605170185988091, -2.4079456086518722, -0.35667494393873245, -1.8971199848858813, -2.995732273553991]\n",
      "('Return should be 0 since the original Ps sums to 1. Return:', -0.0)\n"
     ]
    }
   ],
   "source": [
    "# Test\n",
    "import math\n",
    "lst = [0.01, 0.09, 0.7,0.15, 0.05]\n",
    "log_lst = [math.log(num) for num in lst]\n",
    "print(\"Original Ps are {}\".format(lst))\n",
    "print(\"Input Log(P)s are {}\".format(log_lst))\n",
    "print(\"Return should be 0 since the original Ps sums to 1. Return:\", sum_log(log_lst))"
   ]
  },
  {
   "cell_type": "code",
   "execution_count": 3,
   "metadata": {
    "collapsed": false
   },
   "outputs": [],
   "source": [
    "# 3.Likelihood of Unseen Sentence\n",
    "from collections import defaultdict\n",
    "import math\n",
    "\n",
    "def count_V(token_set):\n",
    "    \"\"\"\n",
    "    Count training vocabulary size\n",
    "    \"\"\"\n",
    "    V = len(token_set)\n",
    "    \n",
    "    if \".\" in token_set:\n",
    "        V -= 1\n",
    "    if \" \" in token_set:\n",
    "        V -= 1\n",
    "    if \",\" in token_set:\n",
    "        V -= 1\n",
    "    \n",
    "    return V\n",
    "\n",
    "\n",
    "def train_oneSent(lst,n,dic_n1,dic_n):\n",
    "    \"\"\"\n",
    "    Train on one sentence list (w/o ending period), update the count of n-gram in dictionary\n",
    "    and the count of (n-1)-gram in dictionary\n",
    "    \"\"\"\n",
    "    if len(lst) < n-1:\n",
    "        return # if there isn't enough length even to update (n-1) gram\n",
    "    \n",
    "    for i in range(0, len(lst)-(n-1)+1):\n",
    "        n1_gram = tuple(lst[i:(i+n-1)])\n",
    "        dic_n1[n1_gram] += 1 # default dict for (n-1) gram\n",
    "        \n",
    "        if i < len(lst)-n+1: # if there can be an ngram \n",
    "            n_gram = tuple(lst[i:(i+n)])\n",
    "            dic_n[n_gram] += 1 # default dict for ngram\n",
    "\n",
    "def smoothed_prob(ngram_lst,V,dic_n1,dic_n):\n",
    "    \"\"\"\n",
    "    Given the count dictionaries and get the smoothed probability of wn,conditioned on wn-1...w1\n",
    "    ngram_lst is splited\n",
    "    \"\"\"\n",
    "    n1_gram = tuple(ngram_lst[:-1])\n",
    "    n_gram = tuple(ngram_lst)\n",
    "    \n",
    "    numer = dic_n[n_gram] + 1\n",
    "    denom = dic_n1[n1_gram] + V\n",
    "    \n",
    "    return numer*1.0/denom\n",
    "\n",
    "def predict(sent_lst,n,V,dic_n1,dic_n):\n",
    "    \"\"\"\n",
    "    Given a sentence, predict its likelihood\n",
    "    \"\"\"\n",
    "    if len(sent_lst) < n:\n",
    "        return round(0, 3)\n",
    "    \n",
    "    logP = 0\n",
    "    for i in range(0, len(sent_lst)-n+1):\n",
    "        n_gram = sent_lst[i:(i+n)]\n",
    "        logP += math.log(smoothed_prob(n_gram, V, dic_n1, dic_n))\n",
    "    \n",
    "    P = math.exp(logP)\n",
    "    return round(P, 3)\n",
    "\n",
    "def train_andPred(string):\n",
    "    \"\"\"\n",
    "    Main function, train the ngram model and predicts\n",
    "    \"\"\"\n",
    "    all = string.split(\",\")\n",
    "    n = int(all[0])\n",
    "    train = all[1].split(\".\") # split training corp into sentences\n",
    "    test_sent = all[2]\n",
    "    if test_sent[-1] == \".\":\n",
    "        test_sent = test_sent[:-1]\n",
    "    \n",
    "    dic_n1 = defaultdict(int)\n",
    "    dic_n = defaultdict(int)\n",
    "    \n",
    "    # Train the model\n",
    "    tokens= set([])\n",
    "    for sent in train:\n",
    "        train_oneSent(sent.split(), n, dic_n1, dic_n)\n",
    "        for token in sent.split():\n",
    "            tokens.add(token)\n",
    "    V = count_V(tokens)\n",
    "    \n",
    "    # Predict the test sentence\n",
    "    return predict(test_sent.split(), n, V, dic_n1, dic_n)"
   ]
  },
  {
   "cell_type": "code",
   "execution_count": 4,
   "metadata": {
    "collapsed": false
   },
   "outputs": [
    {
     "name": "stdout",
     "output_type": "stream",
     "text": [
      "Result is 0.025 and correct answer is 0.025\n",
      "Result is 0.111 and correct answer is 0.111\n",
      "Result is 0.0 and correct answer is 0.0\n"
     ]
    }
   ],
   "source": [
    "# Test\n",
    "input = \"2,you are my love. there is no spoon,you are spoon.\" # (1+1)/(1+8) * (0+1)/(1+8)\n",
    "print(\"Result is {} and correct answer is {}\".format(train_andPred(input), round(2.0/9*1.0/9,3)))\n",
    "\n",
    "input = \"3,you are my love. there is no spoon,you are spoon.\" # (0+1)/(1+8)\n",
    "print(\"Result is {} and correct answer is {}\".format(train_andPred(input), round(1.0/9,3)))\n",
    "\n",
    "input = \"4,you are my love. there is no spoon,you are spoon.\" # 0\n",
    "print(\"Result is {} and correct answer is {}\".format(train_andPred(input), round(0,3)))"
   ]
  },
  {
   "cell_type": "code",
   "execution_count": 10,
   "metadata": {
    "collapsed": false
   },
   "outputs": [],
   "source": [
    "# Clean passage\n",
    "import sys\n",
    "\n",
    "# I copied the code for better debugging and checking built-in function\n",
    "# on my ipython notebook IDE.\n",
    "\n",
    "\n",
    "def clean(string):\n",
    "    \"\"\"\n",
    "    Return cleaned string according to instruction\n",
    "    Also returns the length of original string for comparison\n",
    "    \"\"\"\n",
    "    n = len(string)\n",
    "    string = string.lower() # to lower case\n",
    "    string.strip() # remove leading and trailing whitespace \n",
    "    string = \" \".join(string.split()) # remove the contiguous spaces\n",
    "    \n",
    "    # remove the non-alphanumeric characters\n",
    "    new_string = []\n",
    "    for char in string:\n",
    "        if char.isalnum() or char == \" \":\n",
    "            new_string.append(char)\n",
    "    \n",
    "    new_string = \"\".join(new_string)\n",
    "    \n",
    "    return (new_string, n)\n",
    "\n",
    "# Put everything together\n",
    "for line in sys.stdin:\n",
    "    passages = line.split(\"|\")\n",
    "    \n",
    "    \n",
    "    # Get cleaned passages\n",
    "    cleaned = [clean(passage) for passage in passages]\n",
    "    #print(cleaned)\n",
    "    selected_i = [] # to store the index of selected clean passages \n",
    "    \n",
    "    # Loop through each passage and see if it should be retained\n",
    "    for i in range(len(cleaned)):\n",
    "        select = True\n",
    "        for j in range(len(cleaned)):\n",
    "            if select == False: # no need to compare to rests\n",
    "                break\n",
    "            if i == j: # don't compare to itself\n",
    "                continue\n",
    "            item_i = cleaned[i]\n",
    "            item_j = cleaned[j]\n",
    "            if item_i[0] in item_j[0]: # if i is a sub-passage or equal\n",
    "                if len(item_i[0]) != len(item_j[0]): # i is a sub-passage\n",
    "                    select = False\n",
    "                else: # i and j are equal after cleaning\n",
    "                    if item_i[1] > item_j[1]: # if i's origin is longer\n",
    "                        select = False\n",
    "                    else: # i's origin is shorter or same\n",
    "                        if item_i[1] == item_j[1] and i > j: # i is same but later\n",
    "                            select = False\n",
    "        if select: # i isn't lost in any j, safe to add i\n",
    "            selected_i.append(i) \n",
    "    \n",
    "    # Sort selected_i\n",
    "    selected_i.sort()\n",
    "    #print(selected_i)\n",
    "    \n",
    "    # Build the output with original passage\n",
    "    res = [passages[i] for i in selected_i]\n",
    "    \n",
    "    print(\"|\".join(res))"
   ]
  },
  {
   "cell_type": "code",
   "execution_count": null,
   "metadata": {
    "collapsed": false
   },
   "outputs": [],
   "source": []
  },
  {
   "cell_type": "code",
   "execution_count": 9,
   "metadata": {
    "collapsed": true
   },
   "outputs": [],
   "source": [
    "# Write a program that, given a parse tree of either a full or a partial sentence, \\\n",
    "# reconstructs the string. There should be no leading or trailing white spaces in the output string.\n",
    "\n",
    "# I use a stack"
   ]
  },
  {
   "cell_type": "code",
   "execution_count": 7,
   "metadata": {
    "collapsed": true
   },
   "outputs": [],
   "source": [
    "# last 4 of a string\n",
    "def string_last4(string):\n",
    "    \"\"\"\n",
    "    Output alternated string, last 4 digits remained but others are #\n",
    "    \"\"\"\n",
    "    s = list(string)\n",
    "    if len(s) < 4:\n",
    "        return \"#\"*len(s)\n",
    "    for i in range(-4, -len(s)-1, -1):\n",
    "        s[i] = \"#\"\n",
    "    \n",
    "    return \"\".join(s)\n",
    "\n",
    "# output odd num\n",
    "def find_odd_hash(array):\n",
    "    from collections import defaultdict\n",
    "    \"\"\"\n",
    "    Find the number in array that appears odd times\n",
    "    \"\"\"\n",
    "    hash = defaultdict(int)\n",
    "    for num in array:\n",
    "        hash[num] += 1\n",
    "    \n",
    "    # linear scan to find numbers that appears odd times\n",
    "    res = []\n",
    "    for num, count in hash.items():\n",
    "        if count%2 != 0:\n",
    "            res.append(num)\n",
    "    return res\n",
    "\n",
    "def find_odd_bit(array):\n",
    "    \"\"\"\n",
    "    Find the number in array that appears odd times\n",
    "    \"\"\"\n",
    "    res = 0\n",
    "    for num in array:\n",
    "        res = res ^ num\n",
    "    return res\n"
   ]
  },
  {
   "cell_type": "code",
   "execution_count": 9,
   "metadata": {
    "collapsed": false
   },
   "outputs": [
    {
     "name": "stdout",
     "output_type": "stream",
     "text": [
      "[5]\n",
      "5\n"
     ]
    }
   ],
   "source": [
    "# Test\n",
    "l = [2,3,5,4,5,2,4,3,5,2,4,4,2]\n",
    "print(find_odd_hash(l))\n",
    "print(find_odd_bit(l))"
   ]
  },
  {
   "cell_type": "code",
   "execution_count": null,
   "metadata": {
    "collapsed": false
   },
   "outputs": [],
   "source": []
  }
 ],
 "metadata": {
  "kernelspec": {
   "display_name": "Python 2",
   "language": "python",
   "name": "python2"
  },
  "language_info": {
   "codemirror_mode": {
    "name": "ipython",
    "version": 2
   },
   "file_extension": ".py",
   "mimetype": "text/x-python",
   "name": "python",
   "nbconvert_exporter": "python",
   "pygments_lexer": "ipython2",
   "version": "2.7.12"
  }
 },
 "nbformat": 4,
 "nbformat_minor": 0
}
