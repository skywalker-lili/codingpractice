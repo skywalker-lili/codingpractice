{
 "cells": [
  {
   "cell_type": "code",
   "execution_count": 1,
   "metadata": {
    "collapsed": false
   },
   "outputs": [],
   "source": [
    "def maxInc(array):\n",
    "    \"\"\"\n",
    "    Input an array of numbers. Return the maximum increase between a later number and a earlier number\n",
    "    \"\"\"\n",
    "    if len(array) == 0:\n",
    "        raise Exception(\"Array is empty !!!\")\n",
    "    \n",
    "    increased = False # whether the array has ever increased\n",
    "    max_increase = 0 # initial value\n",
    "    min = array[0]\n",
    "    for num in array:\n",
    "        if num < min:\n",
    "            min = num\n",
    "        dif = num - min\n",
    "        if dif > max_increase:\n",
    "            max_increase = dif\n",
    "            increased = True\n",
    "    \n",
    "    if not increased:\n",
    "        raise Exception(\"Array hasn't increased!!!\")\n",
    "    \n",
    "    return max_increase"
   ]
  },
  {
   "cell_type": "code",
   "execution_count": 19,
   "metadata": {
    "collapsed": false
   },
   "outputs": [],
   "source": [
    "def majorityEntry_hash(array):\n",
    "    \"\"\"\n",
    "    Given an array of objects, returnt the majorty entry\n",
    "    \"\"\"\n",
    "    # Assume the objects can be hashed\n",
    "    # Then can use a hash map to keep track of the counts of each number\n",
    "    # Use O(n) space and O(n) time\n",
    "    \n",
    "    from collections import defaultdict\n",
    "    counts = defaultdict(int)\n",
    "    \n",
    "    for item in array:\n",
    "        counts[item] += 1\n",
    "    \n",
    "    for item, count in counts.items():\n",
    "        if count > len(array)/2:\n",
    "            return item\n",
    "    \n",
    "    raise Exception(\"No majority item!!!\")\n",
    "\n",
    "def majorityEntry_vote(array):\n",
    "    \"\"\"\n",
    "    I thought the question can't be that easy and googled a bit to find \n",
    "    Boyer-Moore Majority Vote algorithm. This is the Python implementation\n",
    "    \"\"\"\n",
    "    if len(array) == 0:\n",
    "        raise Exception(\"No majority item!!!\")\n",
    "    \n",
    "    candidate = array[0]\n",
    "    count = 1\n",
    "    \n",
    "    for i in range(1, len(array)):\n",
    "        # Examine whether the new object should vote for the current candidate or against\n",
    "        if array[i] == candidate: # constant time\n",
    "            count += 1\n",
    "        else:\n",
    "            count -= 1\n",
    "        \n",
    "        if count == 0: # if current candidate has no votes, change it to the latest item\n",
    "            candidate = array[i]\n",
    "            count = 1\n",
    "    \n",
    "    # Now candidate is the one with most counts\n",
    "    # Need to check if it's the majority\n",
    "    isMajority = array.count(candidate) > len(array)/2\n",
    "    print(candidate, count)\n",
    "    print(array.count(candidate))\n",
    "    \n",
    "    if isMajority:\n",
    "        return candidate\n",
    "    else:\n",
    "        raise Exception(\"No majority item!!!\")"
   ]
  },
  {
   "cell_type": "code",
   "execution_count": 28,
   "metadata": {
    "collapsed": false
   },
   "outputs": [
    {
     "name": "stdout",
     "output_type": "stream",
     "text": [
      "0x0f4\n",
      "0acdadecf822eeff32aca5830e438cb54aa722e3\n",
      "8BADF00D\n"
     ]
    }
   ],
   "source": [
    "# Regex for hexidecimal numbers\n",
    "import re\n",
    "\n",
    "test_s_matches = [\"0x0f4\",\"0acdadecf822eeff32aca5830e438cb54aa722e3\",\"8BADF00D\"]\n",
    "test_s_noMatches = [\"ShouldntMatchThis\"]\n",
    "pattern = r\"(?:0[xX])?[0-9a-fA-F]+\"\n",
    "\n",
    "for s in test_s_matches:\n",
    "    res = re.match(pattern, s)\n",
    "    if res != None:\n",
    "        print(res.group())\n",
    "    else:\n",
    "        print(\"Wrong! Didn't match {}\".format(s))\n",
    "\n",
    "for s in test_s_noMatches:\n",
    "    res = re.match(pattern, s)\n",
    "    if res != None:\n",
    "        print(\"Wrong! Shouldn't match {}\".format(s))"
   ]
  },
  {
   "cell_type": "code",
   "execution_count": 33,
   "metadata": {
    "collapsed": true
   },
   "outputs": [],
   "source": [
    "# two classes\n",
    "\n",
    "class Rect:\n",
    "    \n",
    "    def __init__(self, width, height):\n",
    "        self.w = width\n",
    "        self.h = height\n",
    "    \n",
    "    def get_perimeter(self):\n",
    "        return (self.w*2 + self.h*2)\n",
    "    \n",
    "    def get_area(self):\n",
    "        return (self.w * self.h)\n",
    "\n",
    "class Square(Rect):\n",
    "    \n",
    "    def __init__(self, length):\n",
    "        Rect.__init__(self, length, length)\n",
    "        self.length = length"
   ]
  },
  {
   "cell_type": "code",
   "execution_count": 45,
   "metadata": {
    "collapsed": false
   },
   "outputs": [],
   "source": [
    "# Parse XML\n",
    "class XML_parser():\n",
    "    def __init__(self):\n",
    "        self.name = \"I read. I parse. I count.\"\n",
    "    \n",
    "    def count_tags(self, string):\n",
    "        \"\"\"\n",
    "        Read a stringlized XML file and return the counts of all tags\n",
    "        \"\"\"\n",
    "        from collections import defaultdict\n",
    "        \n",
    "        if len(string) == 0:\n",
    "            raise Exception(\"Input string is empty!!!\")\n",
    "        \n",
    "        xml = string.split(\"\\n\") # split the string into lines, each line is an root\n",
    "        counts = defaultdict(int) # a hashmap recording the counts for each unique tag\n",
    "        attributes = defaultdict(int) # a hashmap recording the number of attributes of a certain tag\n",
    "        \n",
    "        for i in xrange(len(xml)): # for each line\n",
    "            line = xml[i]\n",
    "            j = 0\n",
    "            while line[j] != \"<\" and j < len(line):\n",
    "                j += 1\n",
    "            if j == len(line): # until the end still can't find a tag element, a borken line\n",
    "                raise Exception(\"Line {} is a broken line!!!\".format(i))\n",
    "                \n",
    "            # This line is a closing bracket </tag>, no attributes, ignore\n",
    "            if line[j] == \"<\" and line[j+1] == \"/\": \n",
    "                    continue\n",
    "            \n",
    "            # Have foundd the opening bracket in this line\n",
    "            else:\n",
    "                k = j+1\n",
    "                while line[k] != \">\": # read until closing bracket\n",
    "                    k += 1\n",
    "                bracket = line[j:k+1] # find the brackt\n",
    "                bracket = bracket.split(\" \")\n",
    "                tag = bracket[0][1:] # first item in a bracket includes the tag\n",
    "                counts[tag] += 1\n",
    "                attributes[tag] += self.count_attributes(bracket)\n",
    "        \n",
    "        return counts, attributes\n",
    "    \n",
    "    def count_attributes(self, lst_string):\n",
    "        \"\"\"\n",
    "        Given a splited bracket, count the occurence of attributes\n",
    "        \"\"\"\n",
    "        count = 0\n",
    "        for item in lst_string:\n",
    "            if \"=\" in item:\n",
    "                count += 1\n",
    "        return count\n",
    "    \n",
    "    def max_count(self, string):\n",
    "        \"\"\"\n",
    "        Use the self.count_tags(string) to find the tag with most counts\n",
    "        \"\"\"\n",
    "        counts, attributes = self.count_tags(string)\n",
    "        if len(counts) > 0:\n",
    "            max_count = 0\n",
    "            max_tag = \"\"\n",
    "            for tag, count in counts.items():\n",
    "                if count > max_count:\n",
    "                    max_count = count\n",
    "                    max_tag = tag\n",
    "            return attributes[max_tag]\n",
    "        \n",
    "        else:\n",
    "            raise Exception(\"String doesn't have tag or borken!!!\") \n",
    "            "
   ]
  },
  {
   "cell_type": "code",
   "execution_count": 50,
   "metadata": {
    "collapsed": false
   },
   "outputs": [
    {
     "data": {
      "text/plain": [
       "1"
      ]
     },
     "execution_count": 50,
     "metadata": {},
     "output_type": "execute_result"
    }
   ],
   "source": [
    "# Test of XML parser\n",
    "p = XML_parser()\n",
    "s = \"<note date='2008-01-10'>\\n<book name='Red'></book>\\n</note>\"\n",
    "p.max_count(s)"
   ]
  },
  {
   "cell_type": "code",
   "execution_count": 60,
   "metadata": {
    "collapsed": false
   },
   "outputs": [],
   "source": [
    "# Implementation of f\n",
    "\n",
    "# When n > 2 need to use recursion + memory\n",
    "# Use an inner function to impleement recursion\n",
    "def do_f_recur(n, memory):\n",
    "    \"\"\"\n",
    "    Helper function for do_f(). Use recursion and memory.\n",
    "    \"\"\"\n",
    "    if n in memory:\n",
    "        return memory[n]\n",
    "    else:\n",
    "        return (3*do_f_recur(n-1, memory) - do_f_recur(n-2, memory))\n",
    "\n",
    "# Main function, only need to input n\n",
    "def do_f(n):\n",
    "    \"\"\"\n",
    "    Given a number, return value of f(n)\n",
    "    \"\"\"\n",
    "    if n < 0:\n",
    "        raise Exception(\"n must be larger or equal to 0!!!\")\n",
    "    elif n == 0:\n",
    "        return 1\n",
    "    elif n == 1:\n",
    "        return 3\n",
    "    else:\n",
    "        memory = {0:1, 1:3}\n",
    "        return do_f_recur(n, memory)\n",
    "\n",
    "    \n",
    "# Bonus: non-recursive\n",
    "def do_f_iter(n):\n",
    "    \"\"\"\n",
    "    Use for-loop to \"grow\" the value of latest i until i reaches target n\n",
    "    \"\"\"\n",
    "    if n < 0:\n",
    "        raise Exception(\"n must be larger or equal to 0!!!\")\n",
    "    elif n == 0:\n",
    "        return 1\n",
    "    elif n == 1:\n",
    "        return 3\n",
    "    else:\n",
    "        previous = 3\n",
    "        pre_previous = 1\n",
    "        for i in range(2, n+1):\n",
    "            num = 3*previous - pre_previous\n",
    "            pre_previous = previous\n",
    "            previous = num\n",
    "        return num"
   ]
  },
  {
   "cell_type": "code",
   "execution_count": 61,
   "metadata": {
    "collapsed": false
   },
   "outputs": [
    {
     "name": "stdout",
     "output_type": "stream",
     "text": [
      "(0, 1)\n",
      "(0, 1)\n",
      "(1, 3)\n",
      "(1, 3)\n",
      "(2, 8)\n",
      "(2, 8)\n",
      "(3, 21)\n",
      "(3, 21)\n"
     ]
    }
   ],
   "source": [
    "# Test\n",
    "for i in range(4):\n",
    "    print(i, do_f(i))\n",
    "    print(i, do_f_iter(i))"
   ]
  },
  {
   "cell_type": "code",
   "execution_count": null,
   "metadata": {
    "collapsed": true
   },
   "outputs": [],
   "source": []
  }
 ],
 "metadata": {
  "kernelspec": {
   "display_name": "Python 2",
   "language": "python",
   "name": "python2"
  },
  "language_info": {
   "codemirror_mode": {
    "name": "ipython",
    "version": 2
   },
   "file_extension": ".py",
   "mimetype": "text/x-python",
   "name": "python",
   "nbconvert_exporter": "python",
   "pygments_lexer": "ipython2",
   "version": "2.7.12"
  }
 },
 "nbformat": 4,
 "nbformat_minor": 0
}
