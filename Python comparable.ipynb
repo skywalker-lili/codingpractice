{
 "cells": [
  {
   "cell_type": "code",
   "execution_count": 8,
   "metadata": {
    "collapsed": true
   },
   "outputs": [],
   "source": [
    "class Comparable:\n",
    "    def __init__(self, val):\n",
    "        self.val = val\n",
    "    \n",
    "    def __str__(self):\n",
    "        # for str(item)\n",
    "        return str(self.val)\n",
    "    def __repr__(self):\n",
    "        # for print(item)\n",
    "        return self.__str__()\n",
    "    \n",
    "    def _compare(self, other):\n",
    "        if self.val > other.val:\n",
    "            return 1\n",
    "        elif self.val < other.val:\n",
    "            return -1\n",
    "        else:\n",
    "            return 0\n",
    "    \n",
    "    def __lt__(self, other):\n",
    "        return self._compare(other) < 0\n",
    "    \n",
    "    def __le__(self, other):\n",
    "        return self._compare(other) <= 0\n",
    "    \n",
    "    def __eq__(self, other):\n",
    "        return self._compare(other) == 0\n",
    "    \n",
    "    def __ge__(self, other):\n",
    "        return self._compare(other) >= 0\n",
    "    \n",
    "    def __gt__(self, other):\n",
    "        return self._compare(other) > 0\n",
    "    \n",
    "    def __ne__(self, other):\n",
    "        return self._compare(other) != 0\n"
   ]
  },
  {
   "cell_type": "code",
   "execution_count": 9,
   "metadata": {
    "collapsed": false
   },
   "outputs": [
    {
     "name": "stdout",
     "output_type": "stream",
     "text": [
      "True\n",
      "True\n",
      "True\n",
      "True\n",
      "True\n",
      "False\n",
      "False\n",
      "False\n",
      "[1, 2]\n"
     ]
    }
   ],
   "source": [
    "# Test\n",
    "one = Comparable(1)\n",
    "two = Comparable(2)\n",
    "another_one = Comparable(1)\n",
    "\n",
    "print one < two\n",
    "print one <= two\n",
    "print one == one\n",
    "print one == another_one\n",
    "print one != two\n",
    "print one == two\n",
    "print one >= two\n",
    "print one > two\n",
    "\n",
    "l = [two, one]\n",
    "l.sort()\n",
    "print l"
   ]
  }
 ],
 "metadata": {
  "kernelspec": {
   "display_name": "Python 2",
   "language": "python",
   "name": "python2"
  },
  "language_info": {
   "codemirror_mode": {
    "name": "ipython",
    "version": 2
   },
   "file_extension": ".py",
   "mimetype": "text/x-python",
   "name": "python",
   "nbconvert_exporter": "python",
   "pygments_lexer": "ipython2",
   "version": "2.7.11"
  }
 },
 "nbformat": 4,
 "nbformat_minor": 0
}
