{
 "cells": [
  {
   "cell_type": "code",
   "execution_count": 13,
   "metadata": {
    "collapsed": false
   },
   "outputs": [],
   "source": [
    "# implment dynamic array\n",
    "\n",
    "import ctypes\n",
    "\n",
    "class DynamicArray(object):\n",
    "    \n",
    "    def __init__(self):\n",
    "        self.n = 0\n",
    "        self.capacity = 1\n",
    "        self.A = self.make_array(self.capacity)\n",
    "    \n",
    "    def __len__(self):\n",
    "        return self.n\n",
    "    \n",
    "    def __getitem__(self, k):\n",
    "        if not 0<= k < self.n:\n",
    "            return IndexError('K is out of bounds!')\n",
    "        \n",
    "        return self.A[k] \n",
    "    \n",
    "    def append(self, ele):\n",
    "        # check capacity\n",
    "        if self.n == self.capacity:\n",
    "            self._resize(2*self.capacity) # 2x if capacity isn't enough\n",
    "        \n",
    "        self.A[self.n] = ele\n",
    "        self.n += 1\n",
    "    \n",
    "    def _resize(self, new_cap):\n",
    "        B = self.make_array(new_cap) # make a new bigger array, called B\n",
    "        \n",
    "        for k in range(self.n):\n",
    "            B[k] = self.A[k]\n",
    "        \n",
    "        self.A = B # reset A to reference the object B refers to\n",
    "        self.capacity = new_cap\n",
    "    \n",
    "    def make_array(self, new_cap):\n",
    "        return (new_cap * ctypes.py_object)() # how to initialt an array"
   ]
  },
  {
   "cell_type": "code",
   "execution_count": 15,
   "metadata": {
    "collapsed": false
   },
   "outputs": [],
   "source": [
    "# cycle check\n",
    "def cycle_check(node):\n",
    "    marker1 =node\n",
    "    marker2 = node\n",
    "    \n",
    "    while marker2 != None and marker2.nextnode != None:\n",
    "        \n",
    "        marker1 = marker1.nextnode\n",
    "        marker2 = marker2.nextnode.nextnode\n",
    "        \n",
    "        if marker2 == marker1:\n",
    "            return True\n",
    "    return False\n"
   ]
  },
  {
   "cell_type": "code",
   "execution_count": 16,
   "metadata": {
    "collapsed": false
   },
   "outputs": [],
   "source": [
    "# linked list reversal\n",
    "def reverse_list(head):\n",
    "    \n",
    "    current = head\n",
    "    previous = None\n",
    "    nextnode= None\n",
    "    \n",
    "    while current:\n",
    "        nextnode = current.nextnode\n",
    "        \n",
    "        current.nextnode = previous\n",
    "        \n",
    "        previous = current\n",
    "        current = nextnode\n",
    "    return previous"
   ]
  },
  {
   "cell_type": "code",
   "execution_count": 2,
   "metadata": {
    "collapsed": false
   },
   "outputs": [],
   "source": [
    "# nth to last node:\n",
    "def nth_to_last(n, head):\n",
    "    left = head\n",
    "    right = head\n",
    "    \n",
    "    # move right forward n-1 steps check if the length of linked list\n",
    "    # is less than n\n",
    "    for dum_i in range(n-1):\n",
    "        if not right.nextnode:\n",
    "            raise LookupError('Error: linked list length < n')\n",
    "        right = right.nextnode\n",
    "    \n",
    "    while right.nextnode:\n",
    "        left = left.nextnode\n",
    "        right = right.nextnode\n",
    "    return left\n",
    "    "
   ]
  },
  {
   "cell_type": "code",
   "execution_count": 7,
   "metadata": {
    "collapsed": false
   },
   "outputs": [],
   "source": [
    "# permute string\n",
    "def permute(s):\n",
    "    out = []\n",
    "    # base case: there's 1 letter in s\n",
    "    if len(s) ==1:\n",
    "        out = [s]\n",
    "    else:\n",
    "        # for every letter in string\n",
    "        for i, let in enumerate(s):\n",
    "            # for every permutation resulting from step 2 and 3\n",
    "            for perm in permute(s[:i]+s[i+1:]):\n",
    "                out += [let+perm]\n",
    "    return out\n",
    "        "
   ]
  },
  {
   "cell_type": "code",
   "execution_count": 45,
   "metadata": {
    "collapsed": true
   },
   "outputs": [],
   "source": [
    "# fibonacci sequence iterative version\n",
    "\n",
    "# Use two variables to keep previous values\n",
    "def fib_iter(n):\n",
    "    pre_pre= 0\n",
    "    pre = 1\n",
    "    \n",
    "    if n == 1: return 0\n",
    "    if n == 2: return 1\n",
    "    \n",
    "    for i in range(n-2): # to get the nth fib, we just need to iterate until n-2\n",
    "        cur = pre_pre + pre\n",
    "        pre_pre = pre # update pre_pre first\n",
    "        pre = cur\n",
    "        \n",
    "    return cur\n",
    "\n",
    "# Use a list to store variables and using mod to update the list\n",
    "def fib_iter_l(n):\n",
    "    pre_fibs = [None]*2 # list to store previous variables\n",
    "    \n",
    "    # initialze the pre_nums\n",
    "    pre_fibs[0] = 0\n",
    "    pre_fibs[1] = 1\n",
    "    \n",
    "    # base case\n",
    "    if n == 1 or n == 2: return pre_fibs[n-1]\n",
    "    \n",
    "    # generation case\n",
    "    \n",
    "    # a pointer to record the position of previous-previous fib number\n",
    "    # the number of this fib number should be replaced by the new fib and\n",
    "    # the pointer should move forward by 1 to indicating after creating the new fib, the previous-previous fib also advanced\n",
    "    ptr = 0;\n",
    "    for _ in range(n-2): # n-1 because the indexing of pre_fibs is based on 0\n",
    "        new_fib = pre_fibs[ptr] + pre_fibs[(ptr+1) % 2]\n",
    "        pre_fibs[ptr] = new_fib\n",
    "        ptr = (ptr+1) % 2 # ptr advanced in a circular way\n",
    "    \n",
    "    return pre_fibs[ptr-1]"
   ]
  },
  {
   "cell_type": "code",
   "execution_count": 1,
   "metadata": {
    "collapsed": true
   },
   "outputs": [],
   "source": [
    "# fibonacci sequence recursion version\n",
    "def fib_rec(n):\n",
    "    # base case\n",
    "    if n== 0 or n== 1:\n",
    "        return n\n",
    "    # recursive\n",
    "    return fib_rec(n-1) + fib_rec(n-2)"
   ]
  },
  {
   "cell_type": "code",
   "execution_count": 6,
   "metadata": {
    "collapsed": true
   },
   "outputs": [],
   "source": [
    "# fibonacci sequence dynamic programming version\n",
    "# use a cache created internally\n",
    "def fib_dyn(n):\n",
    "    # set up cache according to the size of n\n",
    "    cache = [0,1]\n",
    "    \n",
    "    # Base case\n",
    "    if n == 0 or n == 1:\n",
    "        return cache[n]\n",
    "    \n",
    "    # Produce fib number from s\n",
    "    for i in range(2,n+1):\n",
    "        cache.append(cache[i-1]+cache[i-2])\n",
    "    \n",
    "    return cache[-1]"
   ]
  },
  {
   "cell_type": "code",
   "execution_count": 90,
   "metadata": {
    "collapsed": false
   },
   "outputs": [],
   "source": [
    "# coin match\n",
    "import sys\n",
    "\n",
    "def rec_coin_dyn(target, coins, known_results, min_coins):\n",
    "    \n",
    "    # Base case: there's a solution\n",
    "    if target in coins:\n",
    "        known_results[target] = 1\n",
    "        return (True, min_coins)\n",
    "    \n",
    "    # Base case: no resolution\n",
    "    if target not in coins and target < min(coins):\n",
    "        return (False, -1) # indicating there's no solution given this target and coins\n",
    "    \n",
    "    # if there is already a solution stored, return the solution\n",
    "    elif known_results[target] != None:\n",
    "        return (True, known_results[target])\n",
    "    \n",
    "    else:\n",
    "        # Use known_result\n",
    "        # For every coin value that <= target\n",
    "        for i in [c for c in coins if c<= target]:\n",
    "            res = rec_coin_dyn(target - i, coins, known_results, min_coins)\n",
    "            new_min_happens = res[0]\n",
    "            num_coins = res[1] + 1\n",
    "            if new_min_happens and num_coins < min_coins:\n",
    "                print \"min_coins updated from {0} to {1}\".format((min_coins, num_coins))\n",
    "                min_coins = num_coins\n",
    "                # reset that known results\n",
    "                known_results[target] = min_coins\n",
    "        \n",
    "    return (True, min_coins)"
   ]
  },
  {
   "cell_type": "code",
   "execution_count": 4,
   "metadata": {
    "collapsed": false
   },
   "outputs": [],
   "source": [
    "# Fault robust\n",
    "# Path recoverable\n",
    "import sys\n",
    "\n",
    "def find_min_coins(target, coins):\n",
    "    knowledge_coin = [None]*(target+1) # an array to record min coins given a target\n",
    "    last_coin = [None]*(target+1) # an array holding the selection of last coin to reach a certain target value\n",
    "    \n",
    "    # base case, target = 0\n",
    "    if target == 0: return (True, 0)\n",
    "    \n",
    "    def dfs(target): # will return a min value given the target\n",
    "        \n",
    "        # base case: find the target equals to one of the coin\n",
    "        if target in coins: # target is in the coins\n",
    "            last_coin[target] = target\n",
    "            return (True, 1)\n",
    "        elif target < min(coins): # target is less than minimum coin\n",
    "            return (False, -1)\n",
    "        elif knowledge_coin[target] != None: # target is in the knowledge base\n",
    "            return (True, knowledge_coin[target])\n",
    "        \n",
    "        # now is the case target is larger than the minimum of coin and not in the coins\n",
    "        # try use a coin and then solve the smaller target\n",
    "        at_least_one_solution = False\n",
    "        min_coins = sys.maxint\n",
    "        for c in coins: # try all coins\n",
    "            if c < target: # if the coin is less than target\n",
    "                res = dfs(target - c) # try recursively call it using \n",
    "                solved = res[0]\n",
    "                num_coins = res[1] + 1\n",
    "                if solved and num_coins < min_coins:\n",
    "                    at_least_one_solution = True\n",
    "                    min_coins = num_coins\n",
    "                    selected_coin = c\n",
    "        # after for loop, check if at_least_one_solution exist\n",
    "        if at_least_one_solution:\n",
    "            knowledge_coin[target] = min_coins\n",
    "            last_coin[target] = selected_coin\n",
    "            return (True, min_coins)\n",
    "        else:\n",
    "            return (False, -1)\n",
    "    \n",
    "    solved, min_coins = dfs(target)\n",
    "    \n",
    "    # constuction the selected coins\n",
    "    coins = []\n",
    "    if solved:\n",
    "        cur_target = target\n",
    "        for _ in range(min_coins):\n",
    "            last_added_coin = last_coin[cur_target] \n",
    "            coins.append(last_added_coin)\n",
    "            cur_target -= last_added_coin\n",
    "    \n",
    "    \n",
    "    return solved, min_coins, coins\n"
   ]
  },
  {
   "cell_type": "code",
   "execution_count": 5,
   "metadata": {
    "collapsed": false
   },
   "outputs": [
    {
     "name": "stdout",
     "output_type": "stream",
     "text": [
      "(True, 4, [1, 2, 5, 5])\n"
     ]
    }
   ],
   "source": [
    "target = 13\n",
    "coins = [1,2,5]\n",
    "print find_min_coins(target, coins)"
   ]
  },
  {
   "cell_type": "code",
   "execution_count": null,
   "metadata": {
    "collapsed": false
   },
   "outputs": [],
   "source": [
    "# Knight's tour\n",
    "def knightTour(n,path,u,limit):\n",
    "        u.setColor('gray')\n",
    "        path.append(u)\n",
    "        if n < limit:\n",
    "            nbrList = list(u.getPossibleMoves())\n",
    "            i = 0\n",
    "            done = False\n",
    "            while i < len(nbrList) and not done:\n",
    "                if nbrList[i].getColor() == 'white':\n",
    "                    done = knightTour(n+1, path, nbrList[i], limit)\n",
    "                i = i + 1\n",
    "            if not done:  # prepare to backtrack\n",
    "                path.pop()\n",
    "                u.setColor('white')\n",
    "        else:\n",
    "            done = True\n",
    "        return done\n",
    "\n",
    "class U():\n",
    "    def setColor(self):\n",
    "        # \"gray\" means visited\n",
    "        # \"white\" means not visited \n",
    "        \n",
    "    def getPossibleMoves(self):\n",
    "        # return variable next moves on the chess board"
   ]
  },
  {
   "cell_type": "code",
   "execution_count": null,
   "metadata": {
    "collapsed": true
   },
   "outputs": [],
   "source": []
  }
 ],
 "metadata": {
  "kernelspec": {
   "display_name": "Python 2",
   "language": "python",
   "name": "python2"
  },
  "language_info": {
   "codemirror_mode": {
    "name": "ipython",
    "version": 2
   },
   "file_extension": ".py",
   "mimetype": "text/x-python",
   "name": "python",
   "nbconvert_exporter": "python",
   "pygments_lexer": "ipython2",
   "version": "2.7.11"
  }
 },
 "nbformat": 4,
 "nbformat_minor": 0
}
