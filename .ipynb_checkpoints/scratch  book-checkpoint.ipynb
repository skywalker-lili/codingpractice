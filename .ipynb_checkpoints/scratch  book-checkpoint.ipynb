{
 "cells": [
  {
   "cell_type": "code",
   "execution_count": 3,
   "metadata": {
    "collapsed": false
   },
   "outputs": [
    {
     "data": {
      "text/plain": [
       "'C:\\\\Users\\\\Jingchen\\\\OneDrive\\\\Coding practice'"
      ]
     },
     "execution_count": 3,
     "metadata": {},
     "output_type": "execute_result"
    }
   ],
   "source": [
    "import os\n",
    "os.getcwd()"
   ]
  },
  {
   "cell_type": "code",
   "execution_count": 5,
   "metadata": {
    "collapsed": false
   },
   "outputs": [
    {
     "name": "stdout",
     "output_type": "stream",
     "text": [
      "b\n"
     ]
    }
   ],
   "source": [
    "biDict = {\"a\":1, \"b\":{\"z\": 10}}\n",
    "print random.choice(biDict.keys())"
   ]
  },
  {
   "cell_type": "code",
   "execution_count": 43,
   "metadata": {
    "collapsed": false
   },
   "outputs": [
    {
     "name": "stdout",
     "output_type": "stream",
     "text": [
      "Testing interleaving string\n"
     ]
    },
    {
     "data": {
      "text/plain": [
       "True"
      ]
     },
     "execution_count": 43,
     "metadata": {},
     "output_type": "execute_result"
    }
   ],
   "source": [
    "# Test\n",
    "s1 = \"ab\"\n",
    "s2 = \"a\"\n",
    "s3 = \"aba\"\n",
    "print \"Testing interleaving string\"\n",
    "isInterleave(s1, s2, s3)"
   ]
  },
  {
   "cell_type": "code",
   "execution_count": 3,
   "metadata": {
    "collapsed": false
   },
   "outputs": [
    {
     "name": "stdout",
     "output_type": "stream",
     "text": [
      "1\n"
     ]
    }
   ],
   "source": [
    "print 4>>2"
   ]
  },
  {
   "cell_type": "code",
   "execution_count": 45,
   "metadata": {
    "collapsed": false
   },
   "outputs": [
    {
     "name": "stdout",
     "output_type": "stream",
     "text": [
      "-1\n",
      "-1\n",
      "0\n",
      "2\n"
     ]
    }
   ],
   "source": [
    "class foo():\n",
    "    \n",
    "    if machine_number == 0:\n",
    "        after_min = (global_items.loaded - items_loaded+1)/(N-1)\n",
    "        if items_loaded <= after_min:\n",
    "            return Treu\n",
    "    \n",
    "    elif machine_number == N-1:\n",
    "        return True\n",
    "    \n",
    "    else:\n",
    "        after_min = (items_passed)/(N-machine_number-1)\n",
    "        if items_loaded <= after_min:\n",
    "            return True\n",
    "        \n",
    "    reutnr False"
   ]
  },
  {
   "cell_type": "code",
   "execution_count": 103,
   "metadata": {
    "collapsed": true
   },
   "outputs": [],
   "source": [
    "# Remove duplicated node\n",
    "class Node:\n",
    "    def __init__(self, value):\n",
    "        self.value = value\n",
    "        self.previous = None\n",
    "        self.next = None\n",
    "\n",
    "\n",
    "def removeNode_singleLinked(node):\n",
    "    if node == None:\n",
    "        return    \n",
    "    \n",
    "    # Go through the linked list, re-built it by only keeping the first seen values\n",
    "    \n",
    "    # Initialization\n",
    "    seen = set([node.value]) # has seen the first node\n",
    "    last_seen = node # last_seen is also the first seen\n",
    "    to_check = last_seen.next # prepare the first to be checked nodes\n",
    "    \n",
    "    print \"initial last seen is\", last_seen.value\n",
    "    # while to_check is a node\n",
    "    while to_check != None:\n",
    "        if to_check.value not in seen: # if to_check is new\n",
    "            last_seen.next = to_check # attach it into the new linked list\n",
    "            seen.add(to_check.value) # see it\n",
    "            last_seen = to_check # update last seen\n",
    "        # always update to check\n",
    "        to_check = to_check.next\n",
    "        \n",
    "    last_seen.next = None # last_seen's next should be None\n",
    "    \n",
    "    return\n",
    "\n",
    "def removeNode_doubleLinked(node):\n",
    "    if node == None:\n",
    "        return\n",
    "    \n",
    "    seen = set([])\n",
    "    # while this is a node \n",
    "    while node != None:\n",
    "        if node.value not in seen:\n",
    "            seen.add(node.value)\n",
    "            node = node.next\n",
    "        else:\n",
    "            node.previous.next = node.next\n",
    "            node = node.next"
   ]
  },
  {
   "cell_type": "code",
   "execution_count": 69,
   "metadata": {
    "collapsed": false
   },
   "outputs": [],
   "source": [
    "def get_linkedList(node):\n",
    "    l = []\n",
    "    while node != None:\n",
    "        l.append(node.value)\n",
    "        node = node.next\n",
    "    return l\n",
    "\n",
    "# Test\n",
    "l = [1,1,2,3,3,4,4]"
   ]
  },
  {
   "cell_type": "code",
   "execution_count": 104,
   "metadata": {
    "collapsed": false
   },
   "outputs": [
    {
     "name": "stdout",
     "output_type": "stream",
     "text": [
      "Test single linked\n",
      "> original nodes: [1, 1, 2, 3, 3, 4, 4]\n",
      "initial last seen is 1\n",
      "> after removal: [1, 2, 3, 4]\n"
     ]
    }
   ],
   "source": [
    "# Create single-linked nodes\n",
    "nodes = []\n",
    "for i, value in enumerate(l):\n",
    "    nodes.append(Node(value))\n",
    "for i in range(0, len(l)-1):\n",
    "    nodes[i].next = nodes[i+1]\n",
    "\n",
    "print \"Test single linked\"\n",
    "print \"> original nodes:\", get_linkedList(nodes[0])\n",
    "removeNode_singleLinked(nodes[0])\n",
    "print \"> after removal:\", get_linkedList(nodes[0])"
   ]
  },
  {
   "cell_type": "code",
   "execution_count": 105,
   "metadata": {
    "collapsed": false
   },
   "outputs": [
    {
     "name": "stdout",
     "output_type": "stream",
     "text": [
      "Test double linked\n",
      "> original nodes: [1, 1, 2, 3, 3, 4, 4]\n",
      "> ofter removal: [1, 2, 3, 4]\n"
     ]
    }
   ],
   "source": [
    "# Create double-linked nodes\n",
    "nodes = []\n",
    "for i, value in enumerate(l):\n",
    "    nodes.append(Node(value))\n",
    "for i in range(0, len(l)-1):\n",
    "    nodes[i].next = nodes[i+1]\n",
    "for i in range(1, len(l)):\n",
    "    nodes[i].previous = nodes[i-1]\n",
    "\n",
    "print \"Test double linked\"\n",
    "print \"> original nodes:\", get_linkedList(nodes[0])\n",
    "removeNode_doubleLinked(nodes[0])\n",
    "print \"> ofter removal:\", get_linkedList(nodes[0])"
   ]
  },
  {
   "cell_type": "code",
   "execution_count": null,
   "metadata": {
    "collapsed": true
   },
   "outputs": [],
   "source": []
  },
  {
   "cell_type": "code",
   "execution_count": null,
   "metadata": {
    "collapsed": true
   },
   "outputs": [],
   "source": []
  },
  {
   "cell_type": "code",
   "execution_count": null,
   "metadata": {
    "collapsed": false
   },
   "outputs": [],
   "source": []
  }
 ],
 "metadata": {
  "kernelspec": {
   "display_name": "Python 2",
   "language": "python",
   "name": "python2"
  },
  "language_info": {
   "codemirror_mode": {
    "name": "ipython",
    "version": 2
   },
   "file_extension": ".py",
   "mimetype": "text/x-python",
   "name": "python",
   "nbconvert_exporter": "python",
   "pygments_lexer": "ipython2",
   "version": "2.7.11"
  }
 },
 "nbformat": 4,
 "nbformat_minor": 0
}
